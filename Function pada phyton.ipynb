{
 "cells": [
  {
   "cell_type": "markdown",
   "metadata": {},
   "source": [
    "# Novita Arianti_Function Pada Phyton"
   ]
  },
  {
   "cell_type": "markdown",
   "metadata": {},
   "source": [
    "# Function"
   ]
  },
  {
   "cell_type": "markdown",
   "metadata": {},
   "source": [
    "Function adalah sebuah blok statemen yang hanya akan dijalankan saat ia dipanggil.!\n"
   ]
  },
  {
   "cell_type": "code",
   "execution_count": 2,
   "metadata": {},
   "outputs": [
    {
     "data": {
      "text/plain": [
       "5"
      ]
     },
     "execution_count": 2,
     "metadata": {},
     "output_type": "execute_result"
    }
   ],
   "source": [
    "genap = [2,4,6,8,10]\n",
    "len(genap)\n"
   ]
  },
  {
   "cell_type": "code",
   "execution_count": 3,
   "metadata": {},
   "outputs": [
    {
     "name": "stdout",
     "output_type": "stream",
     "text": [
      "Assalamualaikum Dunia\n"
     ]
    }
   ],
   "source": [
    "print('Assalamualaikum Dunia')"
   ]
  },
  {
   "cell_type": "markdown",
   "metadata": {},
   "source": [
    "# Keyword & Argument!\n"
   ]
  },
  {
   "cell_type": "markdown",
   "metadata": {},
   "source": [
    "Keyword/Parameter : variable yang digunakan dalam deklarasi fungsi "
   ]
  },
  {
   "cell_type": "markdown",
   "metadata": {},
   "source": [
    "Argument : nilai yang diberikan saat pemanggilan fungsi"
   ]
  },
  {
   "cell_type": "code",
   "execution_count": 6,
   "metadata": {},
   "outputs": [
    {
     "name": "stdout",
     "output_type": "stream",
     "text": [
      "kata1/kata2\n"
     ]
    }
   ],
   "source": [
    "# sep = keyword/argument # '-' = argument\n",
    "print('kata1', 'kata2', sep='/')\n"
   ]
  },
  {
   "cell_type": "markdown",
   "metadata": {},
   "source": [
    "# Membuat Fungsi\n"
   ]
  },
  {
   "cell_type": "markdown",
   "metadata": {},
   "source": [
    "Python mengizinkan untuk mendeklarasikan fungsi dalam kode yang dituliskan yang dikenal dengan user defined function.\n",
    "\n",
    "    def nama_fungsi(argument): \n",
    "        pernyataan_1   \n",
    "        …\n",
    "        pernyataan_n    \n",
    "        return nilai_keluaran\n"
   ]
  },
  {
   "cell_type": "code",
   "execution_count": 7,
   "metadata": {},
   "outputs": [],
   "source": [
    "# Pendefinisian fungsi_kuadrat \n",
    "\n",
    "def fungsi_kuadrat(x):    \n",
    "    hasil = x**2    \n",
    "    return hasil\n"
   ]
  },
  {
   "cell_type": "code",
   "execution_count": 9,
   "metadata": {},
   "outputs": [],
   "source": [
    "# Alternatif pendefinisian fungsi_kuadrat \n",
    "\n",
    "def fungsi_kuadrat(x):    \n",
    "    return x**2"
   ]
  },
  {
   "cell_type": "code",
   "execution_count": 10,
   "metadata": {},
   "outputs": [
    {
     "data": {
      "text/plain": [
       "36"
      ]
     },
     "execution_count": 10,
     "metadata": {},
     "output_type": "execute_result"
    }
   ],
   "source": [
    "# Pemanggilan fungsi_kuadrat \n",
    "\n",
    "fungsi_kuadrat(6)"
   ]
  },
  {
   "cell_type": "markdown",
   "metadata": {},
   "source": [
    "# Positional Argument & Keyword\n"
   ]
  },
  {
   "cell_type": "markdown",
   "metadata": {},
   "source": [
    "Kita bisa menyatakan argumen sebagai positional argument atau keyword. Beberapa manfaat argumen kata kunci dapat berupa:\n",
    "Kita dapat menyebut argumen dengan nama mereka untuk memperjelas apa yang mereka wakili. \n",
    "Kita dapat mengatur ulang argumen dengan cara yang membuatnya paling mudah dibaca\n"
   ]
  },
  {
   "cell_type": "code",
   "execution_count": 11,
   "metadata": {},
   "outputs": [],
   "source": [
    "# Mendefinisikan fungsi dengan beberapa argumen \n",
    "\n",
    "def tampilkan_kata(a, b, c):    \n",
    "    print(a, b, c)\n"
   ]
  },
  {
   "cell_type": "code",
   "execution_count": 12,
   "metadata": {},
   "outputs": [
    {
     "name": "stdout",
     "output_type": "stream",
     "text": [
      "aku kau dia\n"
     ]
    }
   ],
   "source": [
    "# Positional Arguments \n",
    "\n",
    "tampilkan_kata('aku', 'kau', 'dia')\n"
   ]
  },
  {
   "cell_type": "code",
   "execution_count": 13,
   "metadata": {},
   "outputs": [
    {
     "name": "stdout",
     "output_type": "stream",
     "text": [
      "kau aku dia\n"
     ]
    }
   ],
   "source": [
    "tampilkan_kata('kau', 'aku', 'dia')\n"
   ]
  },
  {
   "cell_type": "code",
   "execution_count": 14,
   "metadata": {},
   "outputs": [
    {
     "name": "stdout",
     "output_type": "stream",
     "text": [
      "aku kau dia\n",
      "aku kau dia\n"
     ]
    }
   ],
   "source": [
    "# argumen berdasarkan keyword-nya\n",
    "\n",
    "tampilkan_kata(a='aku', b='kau', c='dia') \n",
    "tampilkan_kata(c='dia', b='kau', a='aku') "
   ]
  },
  {
   "cell_type": "markdown",
   "metadata": {},
   "source": [
    "Catatan: jika sudah diberi kunci maka urutan tidak menjadi penting\n"
   ]
  },
  {
   "cell_type": "code",
   "execution_count": 15,
   "metadata": {},
   "outputs": [
    {
     "name": "stdout",
     "output_type": "stream",
     "text": [
      "aku kau dia\n"
     ]
    }
   ],
   "source": [
    "# campuran antara argumen posisi dan argumen kata kunci \n",
    "\n",
    "tampilkan_kata('aku', b='kau', c='dia')"
   ]
  },
  {
   "cell_type": "markdown",
   "metadata": {},
   "source": [
    "Ini tidak diijinkan:\n",
    "    \n",
    "Positional argument setelah keyword argument\n",
    "tampilkan_kata('aku', b='kau', 'dia')\n",
    "\n",
    "Terdapat dua nilai untuk satu keyword argument yang sama\n",
    "tampilkan_kata(1, b=2, a=3)\n"
   ]
  },
  {
   "cell_type": "markdown",
   "metadata": {},
   "source": [
    "# Argument Default "
   ]
  },
  {
   "cell_type": "markdown",
   "metadata": {},
   "source": [
    "Fungsi dapat memiliki argumen default dengan nilai yang telah ditentukan sebelumnya. Argumen ini dapat ditinggalkan dan nilai default kemudian diteruskan ke fungsi, atau argumen dapat dirubah dengan nilai yang berbeda. Perhatikan bahwa argumen default harus ditentukan sebagai parameter terakhir dalam suatu fungsi.\n"
   ]
  },
  {
   "cell_type": "code",
   "execution_count": 17,
   "metadata": {},
   "outputs": [
    {
     "name": "stdout",
     "output_type": "stream",
     "text": [
      "aku kau dia sahabat\n",
      "aku kau dia teman\n"
     ]
    }
   ],
   "source": [
    "# Argumen default \n",
    "\n",
    "def tampilkan_kata(a, b, c, d='sahabat'):    \n",
    "    print(a, b, c, d)\n",
    "    \n",
    "tampilkan_kata('aku', 'kau', 'dia') \n",
    "tampilkan_kata('aku', b='kau', c='dia', d='teman')\n"
   ]
  },
  {
   "cell_type": "markdown",
   "metadata": {},
   "source": [
    "Catatan: Argumen default harus diletakkan terakhir\n"
   ]
  },
  {
   "cell_type": "markdown",
   "metadata": {},
   "source": [
    "# Contoh User Defined Function\n"
   ]
  },
  {
   "cell_type": "markdown",
   "metadata": {},
   "source": [
    "Contoh 1:\n",
    "Penjumlahan 2 bilangan\n"
   ]
  },
  {
   "cell_type": "code",
   "execution_count": 18,
   "metadata": {},
   "outputs": [
    {
     "data": {
      "text/plain": [
       "3"
      ]
     },
     "execution_count": 18,
     "metadata": {},
     "output_type": "execute_result"
    }
   ],
   "source": [
    "def penjumlahan(x, y):   # input    \n",
    "    a=x+y                # proses    \n",
    "    return a             # output\n",
    "penjumlahan(1, 2)      # pemanggilan fungsi\n"
   ]
  },
  {
   "cell_type": "markdown",
   "metadata": {},
   "source": [
    "Contoh 2:\n",
    "Penjumlahan yang memungkinkan untuk tiga bilangan\n"
   ]
  },
  {
   "cell_type": "code",
   "execution_count": 19,
   "metadata": {},
   "outputs": [
    {
     "name": "stdout",
     "output_type": "stream",
     "text": [
      "3\n",
      "6\n"
     ]
    }
   ],
   "source": [
    "def penjumlahan(x,y,z=None):    \n",
    "    if (z==None):        \n",
    "        return x+y    \n",
    "    else:        return x+y+z\n",
    "print(penjumlahan(1, 2)) \n",
    "print(penjumlahan(1, 2, 3))"
   ]
  },
  {
   "cell_type": "markdown",
   "metadata": {},
   "source": [
    "Contoh 3:\n",
    "Menghitung luas dan keliling persegi\n"
   ]
  },
  {
   "cell_type": "code",
   "execution_count": 20,
   "metadata": {},
   "outputs": [
    {
     "name": "stdout",
     "output_type": "stream",
     "text": [
      "luas: 4\n",
      "keliling: 8\n"
     ]
    }
   ],
   "source": [
    "def luas_dan_keliling_presegi(s):    \n",
    "    luas = s**2    \n",
    "    keliling = 4*s    \n",
    "    return luas, keliling\n",
    "luas, keliling = luas_dan_keliling_presegi(2) \n",
    "print('luas:', luas) \n",
    "print('keliling:', keliling)"
   ]
  },
  {
   "cell_type": "markdown",
   "metadata": {},
   "source": [
    "# Latihan "
   ]
  },
  {
   "cell_type": "markdown",
   "metadata": {},
   "source": [
    "1. Buatlah sebuah fungsi untuk menghitung luas dan keliling lingkaran dengan input jari2!\n"
   ]
  },
  {
   "cell_type": "code",
   "execution_count": 4,
   "metadata": {},
   "outputs": [
    {
     "name": "stdout",
     "output_type": "stream",
     "text": [
      "luas: 31400.0\n",
      "keliling: 1256.0\n"
     ]
    }
   ],
   "source": [
    "def luas_dan_keliling_lingkaran(r):\n",
    "    luas = 3.14*r**2\n",
    "    keliling = 2*3.14*r\n",
    "    return luas\n",
    "    return keliling\n",
    "\n",
    "luas = luas_dan_keliling_lingkaran(100)\n",
    "keliling = luas_dan_keliling_lingkaran(20)\n",
    "print('luas:',luas)\n",
    "print('keliling:',keliling)"
   ]
  },
  {
   "cell_type": "markdown",
   "metadata": {},
   "source": [
    "2. Buatlah sebuah fungsi untuk menggabungkan dua kata dalam bentuk string bebas menjadi satu kata tanpa spasi dengan huruf kecil\n"
   ]
  },
  {
   "cell_type": "code",
   "execution_count": 7,
   "metadata": {},
   "outputs": [
    {
     "name": "stdout",
     "output_type": "stream",
     "text": [
      "tangkubanperahu\n"
     ]
    }
   ],
   "source": [
    "gabung_kata=('TANGKUBAN', 'PeRaHu')\n",
    "print('TANGKUBAN''PeRaHu'.lower())"
   ]
  },
  {
   "cell_type": "markdown",
   "metadata": {},
   "source": [
    "3. Buatlah sebuah fungsi awal_akhir(list_input) untuk menukar elemen pertama pada sebuah list dengan elemen terakhir pada list yang sama!\n"
   ]
  },
  {
   "cell_type": "code",
   "execution_count": 1,
   "metadata": {},
   "outputs": [
    {
     "name": "stdout",
     "output_type": "stream",
     "text": [
      "['4', '2', '3', '1']\n"
     ]
    }
   ],
   "source": [
    "awal_akhir=['1','2','3','4']\n",
    "awal_akhir[0]='4'\n",
    "awal_akhir[3]='1'\n",
    "print(awal_akhir)\n"
   ]
  }
 ],
 "metadata": {
  "kernelspec": {
   "display_name": "Python 3",
   "language": "python",
   "name": "python3"
  },
  "language_info": {
   "codemirror_mode": {
    "name": "ipython",
    "version": 3
   },
   "file_extension": ".py",
   "mimetype": "text/x-python",
   "name": "python",
   "nbconvert_exporter": "python",
   "pygments_lexer": "ipython3",
   "version": "3.7.4"
  }
 },
 "nbformat": 4,
 "nbformat_minor": 2
}
