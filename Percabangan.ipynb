{
 "cells": [
  {
   "cell_type": "markdown",
   "metadata": {},
   "source": [
    "# Novita_Percabangan"
   ]
  },
  {
   "cell_type": "markdown",
   "metadata": {},
   "source": [
    "# Percabangan/ Struktur Pemilihan\n"
   ]
  },
  {
   "cell_type": "markdown",
   "metadata": {},
   "source": [
    "Pada bagian ini, kamu akan membuat keputusan pada bahasa pemrograman Python menggunakan struktur percabangan atau juga sering disebut IF ELSE Statement. Pengambilan keputusan dibutuhkan ketika kamu akan mengeksekusi suatu kode jika sebuah kondisi tertentu dipenuhi.\n",
    "\n",
    "Statement if .. elif ... else digunakan pada bahasa Python untuk pengambilan keputusan.\n"
   ]
  },
  {
   "cell_type": "markdown",
   "metadata": {},
   "source": [
    "# IF Statements\n",
    "\n",
    "\n"
   ]
  },
  {
   "cell_type": "code",
   "execution_count": null,
   "metadata": {},
   "outputs": [],
   "source": [
    "Python IF Statement Syntax\n",
    "    if test expression:   \n",
    "        statement(s)"
   ]
  },
  {
   "cell_type": "markdown",
   "metadata": {},
   "source": [
    "Program akan mengevaluasi nilai dari test expression yang diberikan kemudian akan mengeksekusi statement(s) hanya jika test expression bernilai True .\n",
    "\n",
    "Jika test expression bernilai False , maka statement(s) tidak dieksekusi.\n",
    "Seperti telah disampaikan pada pertemuan sebelumnya bahwa bagian body dari statement if diindikasikan dengan indentasi. Statement-statement yang akan dijalankan jika test expression bernilai True ditulis pada baris selanjutnya dan menjorok ke dalam.\n",
    "\n",
    "Sebagai catatan tambahan bahwa Python menginterpretasikan non-zero values sebagai True . None dan 0 diinterpretasikan sebagai False .\n"
   ]
  },
  {
   "cell_type": "markdown",
   "metadata": {},
   "source": [
    "# Example: Python IF Statement\n"
   ]
  },
  {
   "cell_type": "code",
   "execution_count": 1,
   "metadata": {},
   "outputs": [
    {
     "name": "stdout",
     "output_type": "stream",
     "text": [
      "3 adalah bilangan positif.\n",
      "Pernyataan ini selalu ditampilkan.\n",
      "Pernyataan ini juga selalu ditampilkan.\n"
     ]
    }
   ],
   "source": [
    "# Jika angka adalah bilangan positif maka print \"adalah bilangan positif\"\n",
    "angka = 3 \n",
    "if angka > 0:    \n",
    "    print(angka, \"adalah bilangan positif.\") \n",
    "print(\"Pernyataan ini selalu ditampilkan.\")\n",
    "angka = -1 \n",
    "if angka > 0:    \n",
    "    print(angka, \"adalah bilangan positif.\") \n",
    "print(\"Pernyataan ini juga selalu ditampilkan.\")"
   ]
  },
  {
   "cell_type": "markdown",
   "metadata": {},
   "source": [
    "Pada contoh di atas, angka > 0 adalah test expression . Bagian body dari if dieksekusi hanya jika hasil evaluasi dari test expression adalah bernilai True .\n",
    "\n",
    "Ketika variabel angka bernilai 3, test expression bernilai True sehingga statement di dalam bagian body dari if akan dieksekusi. Sedangkan ketika variabel angka bernilai -1, test expression bernilai False sehingga statement di dalam bagian body dari if tidak dieksekusi(di skip).\n",
    "\n",
    "Statement print() di luar blok if (yang tidak terindentasi) akan selalu dieksekusi.\n"
   ]
  },
  {
   "cell_type": "markdown",
   "metadata": {},
   "source": [
    "# IF ELSE Statements "
   ]
  },
  {
   "cell_type": "code",
   "execution_count": null,
   "metadata": {},
   "outputs": [],
   "source": [
    "Python IF ELSE Statement Syntax\n",
    "\n",
    "if test expression:    \n",
    "    Body of if \n",
    "else :   \n",
    "    Body of else\n"
   ]
  },
  {
   "cell_type": "markdown",
   "metadata": {},
   "source": [
    "Statement if ... else mengevaluasi test expression dan akan mengeksekusi bagian body of if hanya jika test expression bernilai True .\n",
    "\n",
    "Jika test expression bernilai False , maka bagian body of else akan dieksekusi. Indentasi juga digunakan pada bagian ini.\n"
   ]
  },
  {
   "cell_type": "markdown",
   "metadata": {},
   "source": [
    "# Example: Python IF ELSE Statement\n"
   ]
  },
  {
   "cell_type": "code",
   "execution_count": 3,
   "metadata": {},
   "outputs": [
    {
     "name": "stdout",
     "output_type": "stream",
     "text": [
      "Bilangan Positif atau Nol\n"
     ]
    }
   ],
   "source": [
    "# Program disusun untuk mengecek apakah angka merupakan bilangan positif atau negatif # dan menampilkan tulisan yang sesuai\n",
    "angka = 3\n",
    "# Kamu bisa mencoba angka-angka lainnya berikut: \n",
    "# angka = -5 \n",
    "# angka = 0\n",
    "if angka >= 0:    \n",
    "    print(\"Bilangan Positif atau Nol\") \n",
    "else:   \n",
    "    print(\"Bilangan Negatif\")"
   ]
  },
  {
   "cell_type": "markdown",
   "metadata": {},
   "source": [
    "Pada contoh di atas, ketika angka sama dengan 3, test expression bernilai True dan bagian body dari if dieksekusi sedangkan bagian body dari else diabaikan.\n",
    "\n",
    "Ketika angka sama dengan -5, test expression bernilai False dan bagian body dari if diabaikan sedangkan bagian body dari else dieksekusi.\n",
    "\n",
    "Jika angka sama dengan 0, test expression bernilai True dan bagian body dari if dieksekusi sedangkan bagian body dari else diabaikan.\n"
   ]
  },
  {
   "cell_type": "code",
   "execution_count": 4,
   "metadata": {},
   "outputs": [
    {
     "name": "stdout",
     "output_type": "stream",
     "text": [
      "a dan b bernilai sama\n"
     ]
    }
   ],
   "source": [
    "# Program disusun untuk mengecek apakah dua buah angka sama atau tidak # dan menampilkan tulisan yang sesuai\n",
    "a = 5\n",
    "b = 5\n",
    "if a==b:    \n",
    "    print(\"a dan b bernilai sama\") \n",
    "else:    \n",
    "    print(\"a dan b bernilai berbeda\")    \n",
    "    print(\"Halo\")\n"
   ]
  },
  {
   "cell_type": "code",
   "execution_count": 5,
   "metadata": {},
   "outputs": [
    {
     "name": "stdout",
     "output_type": "stream",
     "text": [
      "Masukkan bilangan pertama: 10\n",
      "Masukkan bilangan kedua: 10\n",
      "Bilangan yang lebih besar adalah: 10\n"
     ]
    }
   ],
   "source": [
    "# Program disusun untuk mengecek apakah perbandingan dua buah angka \n",
    "# dan menampilkan tulisan yang sesuai\n",
    "# membaca dua angka\n",
    "bilangan1 = int(input(\"Masukkan bilangan pertama: \")) \n",
    "bilangan2 = int(input(\"Masukkan bilangan kedua: \"))\n",
    "# memilih bilangan yang lebih besar \n",
    "if bilangan1 > bilangan2:    \n",
    "    bilangan_lebih_besar = bilangan1 \n",
    "else:    \n",
    "    bilangan_lebih_besar = bilangan2\n",
    "# menampilkan hasil \n",
    "print(\"Bilangan yang lebih besar adalah:\", bilangan_lebih_besar)"
   ]
  },
  {
   "cell_type": "markdown",
   "metadata": {},
   "source": [
    "# IF ELIF ELSE Statements\n"
   ]
  },
  {
   "cell_type": "code",
   "execution_count": null,
   "metadata": {},
   "outputs": [],
   "source": [
    "Python IF ELIF ELSE Statement Syntax\n",
    "\n",
    "if test expression:    \n",
    "    Body of if \n",
    "elif test expression:    \n",
    "    Body of elif \n",
    "else :    \n",
    "    Body of else\n"
   ]
  },
  {
   "cell_type": "markdown",
   "metadata": {},
   "source": [
    "elif adalah kependekan dari else if. Perintah ini bertugas untuk mengecek beberapa test expression .\n",
    "Jika kondisi untuk statement if bernilai False , maka akan mengecek ke kondisi elif selanjutnya dan begitu seterusnya. Jika semua kondisi pada statement if dan elif bernilai False maka, bagian body dari else akan dieksekusi.\n",
    "Hanya satu blok di antara if , elif , dan else yangakan dieksekusi berdasarkan kondisi yang sesuai.\n",
    "Pada sebuah if blok hanya diijinkan sebuah else blok namun dapat memiliki beberapa blok elif .\n",
    "\n"
   ]
  },
  {
   "cell_type": "markdown",
   "metadata": {},
   "source": [
    "# Example: Python IF ELIF ELSE Statement\n"
   ]
  },
  {
   "cell_type": "code",
   "execution_count": 6,
   "metadata": {},
   "outputs": [
    {
     "name": "stdout",
     "output_type": "stream",
     "text": [
      "Bilangan Positif\n"
     ]
    }
   ],
   "source": [
    "# Program disusun untuk mengecek apakah angka merupakan bilangan positif, negatif atau nol \n",
    "# dan menampilkan tulisan yang sesuai\n",
    "angka = 3.4\n",
    "# Kamu bisa mencoba angka-angka lainnya berikut: \n",
    "# angka = 0 \n",
    "# angka = -4.5\n",
    "if angka > 0:    \n",
    "    print(\"Bilangan Positif\") \n",
    "elif num == 0:    \n",
    "    print(\"Nol\") \n",
    "else:    \n",
    "    print(\"Bilangan Negatif\")"
   ]
  },
  {
   "cell_type": "markdown",
   "metadata": {},
   "source": [
    "Ketika variabel angka bernilai positif , maka Bilangan Positif ditampilkan.\n",
    "Jika angka sama dengan 0, maka Nol ditampilkan.\n",
    "Jika angka bernilai negatif , maka Bilangan Negatif ditampilkan.\n"
   ]
  },
  {
   "cell_type": "code",
   "execution_count": 7,
   "metadata": {},
   "outputs": [
    {
     "name": "stdout",
     "output_type": "stream",
     "text": [
      "x habis dibagi dua\n",
      "x tidak habis dibagi dua, tiga ataupun lima\n"
     ]
    }
   ],
   "source": [
    "# Statement if \n",
    "x = 4 \n",
    "if x % 2 == 0: # jika sisa bagi x dengan 2 sama dengan 0    \n",
    "    print(\"x habis dibagi dua\") # statemen aksi lebih menjorok ke dalam\n",
    "# Statement if ... elif ... else \n",
    "x = 7 \n",
    "if x % 2 == 0: # jika sisa bagi x dengan 2 sama dengan 0    \n",
    "    print(\"x habis dibagi dua\") \n",
    "elif x % 3 ==0: # jika sisa bagi x dengan 3 sama dengan 0    \n",
    "    print(\"x habis dibagi tiga\") \n",
    "elif x % 5 ==0: # jika sisa bagi x dengan 5 sama dengan 0    \n",
    "    print(\"x habis dibagi lima\") \n",
    "else:    \n",
    "    print(\"x tidak habis dibagi dua, tiga ataupun lima\")\n"
   ]
  },
  {
   "cell_type": "markdown",
   "metadata": {},
   "source": [
    "# Python Nested IF Statements\n"
   ]
  },
  {
   "cell_type": "markdown",
   "metadata": {},
   "source": [
    "Kita dapat membuat statement if...elif...else di dalam statement if...elif...else lainnya. Ini disebut sebagai nesting dalam computer programming .\n",
    "Sejumlah pernyataan ini dapat bersarang( nesting ) di dalam satu sama lain. Indentasi adalah satu-satunya cara untuk mengetahui tingkat bersarang. Mereka bisa membingungkan, jadi mereka harus dihindari kecuali jika perlu.\n"
   ]
  },
  {
   "cell_type": "markdown",
   "metadata": {},
   "source": [
    "# Example: Python NESTED IF Statement\n"
   ]
  },
  {
   "cell_type": "code",
   "execution_count": 10,
   "metadata": {},
   "outputs": [
    {
     "name": "stdout",
     "output_type": "stream",
     "text": [
      "Masukkan angka: 99\n",
      "Bilangan positif\n"
     ]
    }
   ],
   "source": [
    "# Program disusun untuk mengecek apakah angka merupakan bilangan positif, negatif atau nol \n",
    "# dan menampilkan tulisan yang sesuai\n",
    "angka = float(input(\"Masukkan angka: \")) \n",
    "if angka >= 0:    \n",
    "    if angka == 0:        \n",
    "        print(\"Nol\")    \n",
    "    else:        \n",
    "        print(\"Bilangan positif\") \n",
    "else:    \n",
    "    print(\"Bilangan negatif\")"
   ]
  },
  {
   "cell_type": "markdown",
   "metadata": {},
   "source": [
    "# Latihan"
   ]
  },
  {
   "cell_type": "markdown",
   "metadata": {},
   "source": [
    "1. Buatlah sebuah fungsi \"Mahal_Diskon\" dengan ketentuan:   \n",
    "    A. Input berupa data harga produk dengan tipe data numerik Tunggal   \n",
    "    B. Kategori Input adalah \"Murah\" dan \"Mahal\", kemudian diskon ada 3 kategori \"10 %\", \"20 %\", dan \"\"40%\"    \n",
    "    C. Output Pertama sebuah teks/string yang menyatakan \"Mahal\" atau \"Murah\" dan Keterangan \"Kamu Dapat Diskon ...\"      \n",
    "    D. Output Kedua adalah harga yang perlu dibayarkan  \n"
   ]
  },
  {
   "cell_type": "code",
   "execution_count": 12,
   "metadata": {},
   "outputs": [
    {
     "name": "stdout",
     "output_type": "stream",
     "text": [
      "Harga Gamis = 3000000\n",
      "Gamis Yang Ingin Dibeli Seharga =  3000000.0\n",
      "\n",
      "\n",
      "SEMOGA KAMU BERUNTUNG MENDAPATKAN DISKON HARI INI YAA!!!\n",
      "\n",
      "\t***MAHAL***\t\n",
      "\n",
      "\n",
      "YEAYY HARGA GAMIS YANG KAMU BELI TERMASUK DALAM DISKON HARI INI!!!\n",
      "\n",
      "SELAMAT YA KAMU BERHAK MENDAPATKAN DISKON SEBESAR 40%\n",
      "\n",
      "\n",
      "Total Harga Yang Harus Kamu Bayar Setelah Mendapat Diskon = \n",
      " 1800000.0\n",
      "\n",
      "TERIMA KASIH SUDAH BERBELANJA DI GAMIS_MONOKROM ,TOLONG DIREVIEW YAA KARENA INI SANGAT BERARTI BUAT KAMI\n",
      "\n"
     ]
    }
   ],
   "source": [
    "beli = float(input('Harga Gamis = '))\n",
    "print('Gamis Yang Ingin Dibeli Seharga = ',beli)\n",
    "\n",
    "mahal = float(3000000)\n",
    "murah = float(150000)\n",
    "\n",
    "def diskonts():\n",
    "  if (beli>0):\n",
    "    print('\\n')\n",
    "    print('SEMOGA KAMU BERUNTUNG MENDAPATKAN DISKON HARI INI YAA!!!')\n",
    "    if (beli<mahal):\n",
    "      print('\\n\\t***MURAH***\\t\\n')\n",
    "      print('\\nYAHH HARGA GAMIS YANG KAMU BELI TIDAK TERMASUK DALAM DISKON HARI INI :(')\n",
    "      print('\\nTotal Harga Yang Harus Kamu Bayar = \\n',beli)\n",
    "      print('\\nTERIMA KASIH SUDAH BERBELANJA DI BUTIK_MONOKROM ,TOLONG DIREVIEW YAA KARENA INI SANGAT BERARTI BUAT KAMI\\n')\n",
    "    elif (beli>=mahal) & (beli<mahal):\n",
    "      print('\\n\\t***MAHAL***\\t\\n')\n",
    "      print('\\nYEAYY HARGA GAMIS YANG KAMU BELI TERMASUK DALAM DISKON HARI INI!!!')\n",
    "      print('\\nSELAMAT YA KAMU BERHAK MENDAPATKAN DISKON SEBESAR 10%\\n')\n",
    "      diskon = beli-(beli*0.1)\n",
    "      print('\\nTotal Harga Yang Harus Kamu Bayar Setelah Mendapat Diskon = \\n',float(diskon))\n",
    "      print('\\nTERIMA KASIH SUDAH BERBELANJA DI BUTIK_MONOKROM ,TOLONG DIREVIEW YAA KARENA INI SANGAT BERARTI BUAT KAMI\\n')\n",
    "    elif (beli>=mahal) & (beli<mahal):\n",
    "      print('\\n\\t***MAHAL***\\t\\n')\n",
    "      print('\\nYEAYY HARGA GAMIS YANG KAMU BELI TERMASUK DALAM DISKON HARI INI!!!')\n",
    "      print('\\nSELAMAT YA KAMU BERHAK MENDAPATKAN DISKON SEBESAR 20%\\n')\n",
    "      diskon = beli-(beli*0.2)\n",
    "      print('\\nTotal Harga Yang Harus Kamu Bayar Setelah Mendapat Diskon = \\n',float(diskon))\n",
    "      print('\\nTERIMA KASIH SUDAH BERBELANJA DI BUTIK_MONOKROM ,TOLONG DIREVIEW YAA KARENA INI SANGAT BERARTI BUAT KAMI\\n')\n",
    "    elif (beli>=mahal):\n",
    "      print('\\n\\t***MAHAL***\\t\\n')\n",
    "      print('\\nYEAYY HARGA GAMIS YANG KAMU BELI TERMASUK DALAM DISKON HARI INI!!!')\n",
    "      print('\\nSELAMAT YA KAMU BERHAK MENDAPATKAN DISKON SEBESAR 40%\\n')\n",
    "      diskon = beli-(beli*0.4)\n",
    "      print('\\nTotal Harga Yang Harus Kamu Bayar Setelah Mendapat Diskon = \\n',float(diskon))\n",
    "      print('\\nTERIMA KASIH SUDAH BERBELANJA DI GAMIS_MONOKROM ,TOLONG DIREVIEW YAA KARENA INI SANGAT BERARTI BUAT KAMI\\n')\n",
    "  else:\n",
    "    print('\\nYAKIN NGGAK MAU NAMBAH ORDER LAGI? :(\\n')\n",
    "\n",
    "diskonts()\n",
    "\n"
   ]
  },
  {
   "cell_type": "markdown",
   "metadata": {},
   "source": [
    "2. Diberi sebuah string, tulislah sebuah fungsi python untuk memeriksa apakah string tersebut merupakan palindrom atau bukan. Sebuah string dikatakan palindrom jika susunan terbalik dari string tersebut sama dengan string pada susunan awalnya. Misalnya, \"radar\" adalah palindrom, tetapi \"radix\" bukanlah palindrom.\n"
   ]
  },
  {
   "cell_type": "code",
   "execution_count": 13,
   "metadata": {},
   "outputs": [
    {
     "name": "stdout",
     "output_type": "stream",
     "text": [
      "kata:\"radar\" merupakan palindrome\n"
     ]
    }
   ],
   "source": [
    "kata = 'radar'\n",
    "kata_dibalik = kata[::-1]\n",
    "if kata == kata_dibalik:\n",
    "    print('kata:\"{}\" merupakan palindrome'.format(kata))\n",
    "else:\n",
    "    print('kata:\"{}\" bukan palindrome'.format(kata))\n",
    "    "
   ]
  },
  {
   "cell_type": "markdown",
   "metadata": {},
   "source": [
    "3. Buatlah fungsi untuk menghitung diskon suatu pembayaran belanjaan dengan input berupa dictionary untuk daftar harga dan dictionary untuk daftar belanjaan!\n"
   ]
  },
  {
   "cell_type": "code",
   "execution_count": 2,
   "metadata": {},
   "outputs": [
    {
     "name": "stdout",
     "output_type": "stream",
     "text": [
      "120000\n"
     ]
    }
   ],
   "source": [
    "daftar_harga = {'telur/kg':20000, 'gula_pasir/kg':16000, 'teh/bks':4000} \n",
    "daftar_belanjaan = {'telur':2, 'gula_pasir':5} \n",
    "\n",
    "harga = [daftar_belanjaan['telur']*daftar_harga['telur/kg'],\n",
    "        daftar_belanjaan['gula_pasir']*daftar_harga['gula_pasir/kg']]\n",
    "total_bayar = 0\n",
    "for bayar in harga:\n",
    "    total_bayar += bayar\n",
    "print(total_bayar)\n"
   ]
  },
  {
   "cell_type": "code",
   "execution_count": null,
   "metadata": {},
   "outputs": [],
   "source": []
  }
 ],
 "metadata": {
  "kernelspec": {
   "display_name": "Python 3",
   "language": "python",
   "name": "python3"
  },
  "language_info": {
   "codemirror_mode": {
    "name": "ipython",
    "version": 3
   },
   "file_extension": ".py",
   "mimetype": "text/x-python",
   "name": "python",
   "nbconvert_exporter": "python",
   "pygments_lexer": "ipython3",
   "version": "3.7.4"
  }
 },
 "nbformat": 4,
 "nbformat_minor": 2
}
