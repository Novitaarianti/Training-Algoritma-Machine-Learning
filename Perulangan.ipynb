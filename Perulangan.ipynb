{
 "cells": [
  {
   "cell_type": "markdown",
   "metadata": {},
   "source": [
    "# Novita_Perulangan"
   ]
  },
  {
   "cell_type": "markdown",
   "metadata": {},
   "source": [
    "# Looping/Perulangan"
   ]
  },
  {
   "cell_type": "markdown",
   "metadata": {},
   "source": [
    "Python menyediakan dua statement untuk melakukan proses perulangan yaitu for dan while. Diantara kedua statement ini, secara umum for lebih banyak digunakan daripada while.\n"
   ]
  },
  {
   "cell_type": "markdown",
   "metadata": {},
   "source": [
    "# For Loop"
   ]
  },
  {
   "cell_type": "markdown",
   "metadata": {},
   "source": [
    "Perulangan for digunakan untuk melakukan iterasi di dalam sequence seperti list , tuple , string , dan array atau objek yang dapat diiterasi lainnya.\n"
   ]
  },
  {
   "cell_type": "markdown",
   "metadata": {},
   "source": [
    "For Loop Syntax"
   ]
  },
  {
   "cell_type": "code",
   "execution_count": null,
   "metadata": {},
   "outputs": [],
   "source": [
    "for val in sequence:    \n",
    "    loop body"
   ]
  },
  {
   "cell_type": "markdown",
   "metadata": {},
   "source": [
    "Pada proses iterasi ini, val adalah variabel yang diambil dari elemen-elemen di dalam sequence untuk setiap iterasi.\n",
    "Perulangan akan berlangsung hingga elemen terakhir dari sequence . Pada bagian body dari for loop diletakkan dalam indentasi.\n"
   ]
  },
  {
   "cell_type": "markdown",
   "metadata": {},
   "source": [
    "# Example: Python for Loop\n"
   ]
  },
  {
   "cell_type": "code",
   "execution_count": 4,
   "metadata": {},
   "outputs": [
    {
     "name": "stdout",
     "output_type": "stream",
     "text": [
      "Jumlah : 48\n"
     ]
    }
   ],
   "source": [
    "# Program untuk menghitung jumlah semua angka dalam sebuah list\n",
    "# List angka \n",
    "list_angka = [6, 5, 3, 8, 4, 2, 5, 4, 11]\n",
    "# variabel untuk menyimpan hasil penjumlahan \n",
    "jumlahan = 0\n",
    "# iterasi di dalam list \n",
    "for angka in list_angka:    \n",
    "    jumlahan = jumlahan+angka\n",
    "print(\"Jumlah :\", jumlahan)"
   ]
  },
  {
   "cell_type": "markdown",
   "metadata": {},
   "source": [
    "# The range() function"
   ]
  },
  {
   "cell_type": "markdown",
   "metadata": {},
   "source": [
    "Kita dapat membuat sebuah sequence angka menggunakan fungsi range() . range(10) akan menghasilkan sequence angka dari 0 sampai 9(10 angka). \n",
    "\n",
    "Kita juga dapat mendefinisikan nilai awal, nilai akhir dan step sizenya yaitu range(start, stp, step_size) . Secara default step_size bernilai 1 jika tidak ditentukan secara khusus. \n",
    "\n",
    "Kita dapat menggunakan fungsi range() di dalam perulangan for untuk melakukan iterasi di dalam sequence numbers . Ini dapat kita kombinasikan dengan fungsi len() untuk melakukan iterasi melalui index dari sebuah sequence . Berikut contohnya:\n"
   ]
  },
  {
   "cell_type": "code",
   "execution_count": 5,
   "metadata": {},
   "outputs": [
    {
     "name": "stdout",
     "output_type": "stream",
     "text": [
      "Aku suka dangdut\n",
      "Aku suka campursari\n",
      "Aku suka keroncong\n"
     ]
    }
   ],
   "source": [
    "# Program untuk melakukan iterasi di dalam list melalui indeks\n",
    "musik = ['dangdut', 'campursari', 'keroncong']\n",
    "# iterasi di dalam list melalui indeks \n",
    "for i in range(len(musik)):    \n",
    "    print(\"Aku suka\", musik[i])\n"
   ]
  },
  {
   "cell_type": "markdown",
   "metadata": {},
   "source": [
    "# for loop with else\n"
   ]
  },
  {
   "cell_type": "markdown",
   "metadata": {},
   "source": [
    "Sebuah for loop dapat memiliki opsi blok else . Blok else akan dijalankan jika iterasi telah selesai dilakukan dalam sebuah sequence .\n",
    "\n",
    "Keyword break digunakan untuk menghentikan iterasi. Dalam kasus itu maka bagian else diabaikan.\n",
    "\n",
    "Sehingga, bagian iterasi else hanya dijalankan jika tidak terjadi break .\n",
    "\n",
    "Berikut adalah beberapa contoh sebagai ilustrasi:\n"
   ]
  },
  {
   "cell_type": "code",
   "execution_count": 7,
   "metadata": {},
   "outputs": [
    {
     "name": "stdout",
     "output_type": "stream",
     "text": [
      "0\n",
      "1\n",
      "5\n",
      "Tidak ada elemen yang tersisa.\n"
     ]
    }
   ],
   "source": [
    "digits = [0, 1, 5]\n",
    "for i in digits:    \n",
    "    print(i) \n",
    "else:    \n",
    "        print(\"Tidak ada elemen yang tersisa.\")"
   ]
  },
  {
   "cell_type": "markdown",
   "metadata": {},
   "source": [
    "Ketika iterasi berjalan maka akan dilakukan print item hingga iterasi selesai. Ketika iterasi pada sequence selesai baru perintah pada blok else dijalankan yaitu print Tidak ada elemen yang tersisa .\n",
    "\n",
    "Statement for ... else dapat digunakan bersama dengan keyword break untuk menjalankan blok else hanya ketika break tidak dieksekusi. Lihat contoh berikut:\n"
   ]
  },
  {
   "cell_type": "code",
   "execution_count": 8,
   "metadata": {},
   "outputs": [
    {
     "name": "stdout",
     "output_type": "stream",
     "text": [
      "Tidak ada data nilai atas nama Butet !\n"
     ]
    }
   ],
   "source": [
    "# Program untuk menampilkan nilai tugas siswa. \n",
    "nama_siswa = 'Butet'\n",
    "daftar_nilai = {'Bambang': 90, 'Andri': 55, 'Candra': 77}\n",
    "for siswa in daftar_nilai:    \n",
    "    if siswa == nama_siswa:        \n",
    "        print(daftar_nilai[siswa])        \n",
    "        break \n",
    "else:    \n",
    "    print('Tidak ada data nilai atas nama', nama_siswa, '!')"
   ]
  },
  {
   "cell_type": "markdown",
   "metadata": {},
   "source": [
    "# While Loop"
   ]
  },
  {
   "cell_type": "markdown",
   "metadata": {},
   "source": [
    "While loop pada Python digunakan untuk melakukan iterasi pada blok kode selama nilai dari test expression adalah true .\n",
    "\n",
    "Looping ini biasanya digunakan ketika kita tidak tau berapa kali iterasi akan dilakukan hingga sebuah kondisi yang diinginkan dapat dicapai.\n",
    "\n",
    "\n",
    "Syntax of while Loop in Python\n",
    "\n"
   ]
  },
  {
   "cell_type": "code",
   "execution_count": null,
   "metadata": {},
   "outputs": [],
   "source": [
    "while test_expression:    \n",
    "    Body of while\n"
   ]
  },
  {
   "cell_type": "markdown",
   "metadata": {},
   "source": [
    "Pada loop while, test expression justru dicheck pertama kali. Kemudian statement - statement di dalam body of while akan dieksekusi jika nilai dari test expression adalah true . Setelah satu iterasi dijalankan, test expression dicek kembali. Proses ini terus berlanjut hingga nilai evaluasi dari test expression adalah False .\n",
    "\n",
    "Pada Python, bagian body pada loop while dituliskan menggunakan indentasi.\n",
    "Sebagai catatan tambahan bahwa Python menginterpretasikan non-zero values sebagai True . None dan 0 diinterpretasikan sebagai False .\n"
   ]
  },
  {
   "cell_type": "markdown",
   "metadata": {},
   "source": [
    "# Example: Python while Loop\n"
   ]
  },
  {
   "cell_type": "code",
   "execution_count": 10,
   "metadata": {},
   "outputs": [
    {
     "name": "stdout",
     "output_type": "stream",
     "text": [
      "jumlahan = 55\n"
     ]
    }
   ],
   "source": [
    "# Program untuk menjumlahkan semua \n",
    "# bilangan asli hingga suku ke-n \n",
    "# jumlahan = 1+2+3+...+n\n",
    "n = 10\n",
    "# nilai awal penjumlahan dan iterasi \n",
    "jumlahan = 0 \n",
    "i = 1\n",
    "while i <= n:    \n",
    "    jumlahan = jumlahan + i    \n",
    "    i = i+1    # update iterasi\n",
    "# cetak hasil penjumlahan \n",
    "print(\"jumlahan =\", jumlahan)"
   ]
  },
  {
   "cell_type": "markdown",
   "metadata": {},
   "source": [
    "Pada program di atas, test expression akan bernilai True selama nilai iterasi i kurang dari atau sama dengan n .\n",
    "Kita perlu mengupdate nilai dari variabel pencatat iterasi i agar iterasi tidak berlangsung secara terus menerus(infinity loop).\n"
   ]
  },
  {
   "cell_type": "markdown",
   "metadata": {},
   "source": [
    "# While loop with else"
   ]
  },
  {
   "cell_type": "markdown",
   "metadata": {},
   "source": [
    "Sama dengan for loop kita juga dapat mengkombinasikan while loop dengan blok else .\n",
    "\n",
    "Bagian else akan dieksekusi jika nilai pada test expression pada pada while loop bernilai False . Perhatikan contoh berikut:\n"
   ]
  },
  {
   "cell_type": "code",
   "execution_count": 11,
   "metadata": {},
   "outputs": [
    {
     "name": "stdout",
     "output_type": "stream",
     "text": [
      "Di dalam Loop\n",
      "Di dalam Loop\n",
      "Di dalam Loop\n",
      "Di dalam else\n"
     ]
    }
   ],
   "source": [
    "counter = 0\n",
    "while counter < 3:    \n",
    "    print(\"Di dalam Loop\")    \n",
    "    counter = counter + 1 \n",
    "else:    \n",
    "    print(\"Di dalam else\")\n"
   ]
  },
  {
   "cell_type": "markdown",
   "metadata": {},
   "source": [
    "# Contoh penggunaan Perulangan\n"
   ]
  },
  {
   "cell_type": "markdown",
   "metadata": {},
   "source": [
    "Contoh 1:\n",
    "\n",
    "Diberikan list_tagihan . Kamu diminta untuk menghitung jumlah seluruh tagihan!. Gunakan looping for untuk menyelesaikan tugas ini! Simpan hasilnya pada variabel total_tagihan !\n",
    "\n",
    "list_tagihan = [50000, 75000, -150000, 125000, 300000, -50000, 200000]\n"
   ]
  },
  {
   "cell_type": "code",
   "execution_count": 12,
   "metadata": {},
   "outputs": [
    {
     "name": "stdout",
     "output_type": "stream",
     "text": [
      "550000\n"
     ]
    }
   ],
   "source": [
    "list_tagihan = [50000, 75000, -150000, 125000, 300000, -50000, 200000] \n",
    "total_tagihan = 0 \n",
    "for tagihan in list_tagihan: # untuk setiap tagihan dalam list_tagihan    \n",
    "    total_tagihan += tagihan # tambahkan tagihan ke total_tagihan \n",
    "print(total_tagihan)"
   ]
  },
  {
   "cell_type": "markdown",
   "metadata": {},
   "source": [
    "Contoh 2:\n",
    "\n",
    "Diberikan list_tagihan . Kamu diminta untuk menghitung jumlah seluruh tagihan!. Gunakan looping for untuk menyelesaikan tugas ini! Simpan hasilnya pada variabel total_tagihan !\n",
    "\n",
    "list_tagihan = [50000, 75000, -150000, 125000, 300000, -50000, 200000]\n",
    "\n",
    "Perhatikan bahwa, terdapat nilai tagihan yang negatif. Hentikan perhitungan total_tagihan jika menemukan nilai negatif!\n"
   ]
  },
  {
   "cell_type": "code",
   "execution_count": 13,
   "metadata": {},
   "outputs": [
    {
     "name": "stdout",
     "output_type": "stream",
     "text": [
      "terdapat angka minus dalam tagihan, perhitungan dihentikan!\n",
      "125000\n"
     ]
    }
   ],
   "source": [
    "list_tagihan = [50000, 75000, -150000, 125000, 300000, -50000, 200000] \n",
    "total_tagihan = 0 \n",
    "for tagihan in list_tagihan:    \n",
    "    if tagihan < 0:        \n",
    "        print(\"terdapat angka minus dalam tagihan, perhitungan dihentikan!\")        \n",
    "        break    \n",
    "    total_tagihan += tagihan \n",
    "print(total_tagihan)\n"
   ]
  },
  {
   "cell_type": "markdown",
   "metadata": {},
   "source": [
    "Contoh 3:\n",
    "\n",
    "Diberikan list_cash_flow kamu diminta untuk melakukan penghitungan total_pemasukan dan total_pengeluaran menggunakan looping for . Untuk nilai positif berarti adalah pemasukan dan nilai negatif berarti adalah pengeluaran.\n",
    "\n",
    "list_cash_flow = [2500000, 5000000, -1000000, -2500000, 5000000, 10000000, -500000 0, 7500000, 10000000, -1500000, 25000000, -2500000]\n"
   ]
  },
  {
   "cell_type": "code",
   "execution_count": 14,
   "metadata": {},
   "outputs": [
    {
     "name": "stdout",
     "output_type": "stream",
     "text": [
      "12500000\n",
      "65000000\n"
     ]
    }
   ],
   "source": [
    "list_cash_flow = [ \n",
    "2500000, 5000000, -1000000, -2500000, 5000000, 10000000, -5000000, 7500000, 10000000, -1500000, 25000000, -2500000 \n",
    "] \n",
    "total_pengeluaran, total_pemasukan = 0, 0 \n",
    "for dana in list_cash_flow:    \n",
    "    if dana > 0:        \n",
    "        total_pemasukan += dana    \n",
    "    else:        \n",
    "        total_pengeluaran += dana \n",
    "total_pengeluaran *= -1 \n",
    "print(total_pengeluaran) \n",
    "print(total_pemasukan)"
   ]
  },
  {
   "cell_type": "markdown",
   "metadata": {},
   "source": [
    "# Latihan"
   ]
  },
  {
   "cell_type": "markdown",
   "metadata": {},
   "source": [
    "1. Buatlah fungsi untuk menghitung diskon suatu pembayaran belanjaan dengan input berupa dictionary untuk daftar harga dan dictionary untuk daftar belanjaan!\n",
    "\n",
    "Contoh:\n",
    "\n",
    "daftar_harga = {'telur/kg':20000, 'gula_pasir/kg':16000, 'teh/bks':4000} \n",
    "\n",
    "daftar_belanjaan = {'telur':2, 'gula_pasir':5} \n",
    "\n",
    "jumlah_bayar = pembayaran(daftar_harga, daftar_belanjaan)\n"
   ]
  },
  {
   "cell_type": "code",
   "execution_count": 1,
   "metadata": {},
   "outputs": [
    {
     "name": "stdout",
     "output_type": "stream",
     "text": [
      "120000\n"
     ]
    }
   ],
   "source": [
    "daftar_harga = {'telur/kg':20000, 'gula_pasir/kg':16000, 'teh/bks':4000} \n",
    "daftar_belanjaan = {'telur':2, 'gula_pasir':5} \n",
    "\n",
    "harga = [daftar_belanjaan['telur']*daftar_harga['telur/kg'],\n",
    "        daftar_belanjaan['gula_pasir']*daftar_harga['gula_pasir/kg']]\n",
    "total_bayar = 0\n",
    "for bayar in harga:\n",
    "    total_bayar += bayar\n",
    "print(total_bayar)\n"
   ]
  },
  {
   "cell_type": "code",
   "execution_count": null,
   "metadata": {},
   "outputs": [],
   "source": []
  }
 ],
 "metadata": {
  "kernelspec": {
   "display_name": "Python 3",
   "language": "python",
   "name": "python3"
  },
  "language_info": {
   "codemirror_mode": {
    "name": "ipython",
    "version": 3
   },
   "file_extension": ".py",
   "mimetype": "text/x-python",
   "name": "python",
   "nbconvert_exporter": "python",
   "pygments_lexer": "ipython3",
   "version": "3.7.4"
  }
 },
 "nbformat": 4,
 "nbformat_minor": 2
}
