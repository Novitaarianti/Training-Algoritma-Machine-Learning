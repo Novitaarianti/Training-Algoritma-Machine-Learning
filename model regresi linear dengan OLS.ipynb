{
  "nbformat": 4,
  "nbformat_minor": 0,
  "metadata": {
    "kernelspec": {
      "display_name": "Python 3",
      "language": "python",
      "name": "python3"
    },
    "language_info": {
      "codemirror_mode": {
        "name": "ipython",
        "version": 3
      },
      "file_extension": ".py",
      "mimetype": "text/x-python",
      "name": "python",
      "nbconvert_exporter": "python",
      "pygments_lexer": "ipython3",
      "version": "3.7.4"
    },
    "colab": {
      "name": "model regresi dengan OLS.ipynb",
      "provenance": []
    }
  },
  "cells": [
    {
      "cell_type": "markdown",
      "metadata": {
        "id": "VNwza1fp-um7"
      },
      "source": [
        "# Novita_Regresi Linear dengan OLS"
      ]
    },
    {
      "cell_type": "markdown",
      "metadata": {
        "id": "Z82eGW-V-unZ"
      },
      "source": [
        "# Apa itu Regresi Linear Sederhana?"
      ]
    },
    {
      "cell_type": "markdown",
      "metadata": {
        "id": "T9VDQdx_-une"
      },
      "source": [
        "Regresi Linear adalah metode untuk mendefinisikan hubungan linear antara variabel dependen **Y** dan variabel independen **X**. Secara sederhana dapat dituliskan dalam formula berikut:\n",
        "\n",
        "<h1><center>\n",
        "    $Y_i=b_0+b_1X_i+\\epsilon_{i}$\n",
        "    </center></h1>\n"
      ]
    },
    {
      "cell_type": "markdown",
      "metadata": {
        "id": "TlojlPW6-unp"
      },
      "source": [
        "Yang mana **$Y_i$** adalah variabel dependen, **$X_i$** adalah variabel independen,$ \\epsilon $ adalah kesalahan acak,  **$b_0$** disebut sebagai intercept dan **$b_1$** disebut sebagai koefisien regresi yang dapat diestimasi berdasarkan data **$Y_i$** dan **$X_i$** yang diberikan. Koefisien **$b_0$** juga biasa disebut sebagai bias. Tujuan utama dari model ini adalah untuk mengambarkan garis linear dengan kesesuaian terbaik(*best fit*) antara X dan Y yang mengestimasi hubungan antara X dan Y."
      ]
    },
    {
      "cell_type": "markdown",
      "metadata": {
        "id": "0IDp8x0y-unv"
      },
      "source": [
        "Lalu bagaimana untuk mengestimasi koefisien tersebut? Salah satu pendekatan yang dapat dilakukan adalah mengunakan metode **Ordinary Least Mean Square Method** . Pada python notebook ini, kita akan mengimplementasikan metode Ordinary Least Mean Square Method. "
      ]
    },
    {
      "cell_type": "markdown",
      "metadata": {
        "id": "ujpkaw8M-uny"
      },
      "source": [
        "## Ordinary Least Mean Square"
      ]
    },
    {
      "cell_type": "markdown",
      "metadata": {
        "id": "FKJe5QCP-un9"
      },
      "source": [
        "Sebelumnya kita telah membahas tentang estimasi hubungan antara X dan Y pada sebuah garis. Misalnya, kita sediakan input dan output sampel, kemudian kita memplot titik titik data ini pada grafik 2 dimensi, maka akan dihasilkan grafik seperti di bawah ini:"
      ]
    },
    {
      "cell_type": "markdown",
      "metadata": {
        "id": "rO6_-eNR-uoD"
      },
      "source": [
        "![Capture.JPG](attachment:Capture.JPG)"
      ]
    },
    {
      "cell_type": "markdown",
      "metadata": {
        "id": "pTjf0tjF-uoJ"
      },
      "source": [
        "Garis merah pada grafik adalah hubungan sesungguhnya yang ingin disetimasi. Kita berusaha untuk meminimalkan kesalahan model yang kita bangun. Garis ini adalah garis yang paling tepat menggambarkan hubungan antara data X dan Y dengan melewati sebagian besar titik data dan memiliki kesalahan yang paling minimal. Kesalahan ini berupa jarak titik data ke garis estimasi model ini. Secara konseptual kesalahan ini diilustrasikan pada gambar di bawah ini."
      ]
    },
    {
      "cell_type": "markdown",
      "metadata": {
        "id": "smUE7bdS-uoR"
      },
      "source": [
        "![Capture.JPG](attachment:Capture.JPG)"
      ]
    },
    {
      "cell_type": "markdown",
      "metadata": {
        "id": "hnNwoVW1-uob"
      },
      "source": [
        "Dan kesalahan total model linier adalah jumlah kesalahan dari setiap titiknya, yaitu:\n",
        "\n",
        "<h1><center>\n",
        "    $ \\sum \\limits_{i=1} ^{n} {\\epsilon_i}^2 $\n",
        "    </center></h1>"
      ]
    },
    {
      "cell_type": "markdown",
      "metadata": {
        "id": "QXsHHxD4-uof"
      },
      "source": [
        "$\\epsilon_i$ = Jarak antara garis ke titik data ke-i\n",
        "\n",
        "$n$ = Jumlah total titik data"
      ]
    },
    {
      "cell_type": "markdown",
      "metadata": {
        "id": "plehUPI0-uoi"
      },
      "source": [
        "Formula di atas diperoleh dari:"
      ]
    },
    {
      "cell_type": "markdown",
      "metadata": {
        "id": "zJWzg1Yw-uok"
      },
      "source": [
        "<center>\n",
        "    $\\begin{eqnarray} \n",
        "    y_i &=& b_{0} + b_{1}. x_{i} + \\epsilon_{i}\\\\\n",
        "    \\epsilon_{i} &=& y_i - b_{0} - b_{1}. x_{i}\\\\\n",
        "    \\sum \\limits_{i=1} ^{n} {\\epsilon_i}^2 &=& \\sum \\limits_{i=1} ^{n} {(y_i - b_{0} - b_{1}. x_{i})}^2\\\\\n",
        "    \\end{eqnarray}$"
      ]
    },
    {
      "cell_type": "markdown",
      "metadata": {
        "id": "RkTEOVNI-uoo"
      },
      "source": [
        "Pada baris terakhir persamaan di atas kita **mengkuadratkan kesalahan yang berupa jarak antara garis estimasi dengan titik data**. _Kita dapat mengkuadratkan masing-masing jarak karena terdapat beberapa titik di atas garis dan beberapa di bawahnya._ Kemudian, untuk memperoleh model terbaik jarak tersebut dapat kita minimumkan. Misal $ \\sum \\limits_{i=1} ^{n} {\\epsilon_i}^2  = J $"
      ]
    },
    {
      "cell_type": "markdown",
      "metadata": {
        "id": "aY73UtBF-uoq"
      },
      "source": [
        "Ide Dasar Metode OLS: **Nilai minimum dari fungsi kesalahan $ \\sum \\limits_{i=1} ^{n} {\\epsilon_i}^2  $ terjadi saat turunan pertama terhadap koefisien $b_0$ dan $b_1$ sama dengan 0. Ini merujuk pada konsep dasar turunan fungsi dalam kalkulus yaitu nilai minimum suatu fungsi terjadi saat turunan pertamanya sama dengan 0.** \n",
        "\n",
        "Konsep ini kemudian diperluas menjadi metode Gradient Descent. "
      ]
    },
    {
      "cell_type": "markdown",
      "metadata": {
        "id": "J5VmqY3O-uot"
      },
      "source": [
        "**Mencari nilai minimum untuk $b_{0}$**"
      ]
    },
    {
      "cell_type": "markdown",
      "metadata": {
        "id": "NRixGCu2-uoz"
      },
      "source": [
        "<center>\n",
        "    $\\begin{eqnarray} \n",
        "    J &=& \\sum \\limits_{i=1} ^{n} {(y_i - b_{0} - b_{1}. x_{i})}^2\\\\\n",
        "    \\frac{\\partial J}{\\partial b_{0}} &=& 2 \\sum \\limits_{i=1} ^{n} {(y_i - b_{0} - b_{1}. x_{i})}^{(2-1)} . (-1)\\\\\n",
        "    \\frac{\\partial J}{\\partial b_{0}} &=& -2 \\sum \\limits_{i=1} ^{n} {(y_i - b_{0} - b_{1}. x_{i})}\\\\\n",
        "    \\frac{\\partial J}{\\partial b_{0}} &=& 0\\\\\n",
        "    \\sum \\limits_{i=1} ^{n} {(y_i - \\hat{b_{0}} - \\hat{b_{1}}. x_{i})} &=& 0\\\\\n",
        "    \\sum \\limits_{i=1} ^{n} y_i - n \\hat{b_{0}} - \\hat{b_{1}}\\sum \\limits_{i=1} ^{n} x_i &=& 0\\\\\n",
        "    n \\hat{b_{0}} &=& \\sum \\limits_{i=1} ^{n} y_i - \\hat{b_{1}}\\sum \\limits_{i=1} ^{n} x_i\\\\\n",
        "    \\hat{b_{0}} &=& \\frac{\\sum \\limits_{i=1} ^{n} y_i - \\hat{b_{1}}\\sum \\limits_{i=1} ^{n} x_i}{n}\\\\\n",
        "    \\hat{b_{0}} &=& \\bar{y} - \\hat{b_{1}}\\bar{x}\\\\\n",
        "    \\end{eqnarray}$"
      ]
    },
    {
      "cell_type": "markdown",
      "metadata": {
        "id": "dSSe6R6Q-uo1"
      },
      "source": [
        "Sehingga diperoleh formula untuk $b_0$ adalah\n",
        "\n",
        "<h3><center>\n",
        "    $ \\hat{b_{0}} = \\bar{y} - \\hat{b_{1}} \\bar{x} $\n",
        "    "
      ]
    },
    {
      "cell_type": "markdown",
      "metadata": {
        "id": "1dNCk26w-uo3"
      },
      "source": [
        "**Mencari nilai minimum untuk $b_{1}$**"
      ]
    },
    {
      "cell_type": "markdown",
      "metadata": {
        "id": "2OXatohz-uo5"
      },
      "source": [
        "<center>\n",
        "    $\\begin{eqnarray} \n",
        "    J &=& \\sum \\limits_{i=1} ^{n} {(y_i - b_{0} - b_{1}. x_{i})}^2\\\\\n",
        "    \\frac{\\partial J}{\\partial b_{1}} &=& 2 \\sum \\limits_{i=1} ^{n} {(y_{i} - b_{0} - b_{1}. x_{i})}^{(2-1)} . (-x_{i})\\\\\n",
        "    \\frac{\\partial J}{\\partial b_{1}} &=& -2 \\sum \\limits_{i=1} ^{n} {(x_{i}.y_{i} - b_{0}.x_{i} - b_{1}. x_{i}^2)}\\\\\n",
        "    \\frac{\\partial J}{\\partial b_{1}} &=& 0\\\\\n",
        "    \\sum \\limits_{i=1} ^{n} x_{i}.y_{i} - \\hat{b_{0}} \\sum \\limits_{i=1} ^{n} x_{i} - \\hat{b_{1}} \\sum \\limits_{i=1} ^{n} x_{i}^2 &=& 0 \\\\\n",
        "    \\sum \\limits_{i=1} ^{n} x_{i}.y_{i} - \\begin{pmatrix} \\frac{\\sum \\limits_{i=1} ^{n} y_i - \\hat{b_{1}}\\sum \\limits_{i=1} ^{n} x_i}{n} \\end{pmatrix} \\sum \\limits_{i=1} ^{n} x_{i} - \\hat{b_{1}} \\sum \\limits_{i=1} ^{n} x_{i}^2 &=& 0 \\\\\n",
        "    \\sum \\limits_{i=1} ^{n} x_{i}.y_{i} - \\frac{\\sum \\limits_{i=1} ^{n} x_{i} \\sum \\limits_{i=1}^{n} y_{i}}{n} + \\hat{b_{1}} \\frac{\\begin{pmatrix} \\sum \\limits_{i=1} ^{n} x_{i} \\end{pmatrix}^2 }{n} - \\hat{b_{1}} \\sum \\limits_{i=1} ^{n} x_{i}^2 &=& 0 \\\\\n",
        "    \\hat{b_{1}} \\begin{pmatrix} \\frac{\\begin{pmatrix} \\sum \\limits_{i=1} ^{n} x_{i} \\end{pmatrix}^2 }{n} - \\sum \\limits_{i=1} ^{n} x_{i}^2 \\end{pmatrix} &=& \\frac{\\sum \\limits_{i=1} ^{n} x_{i} \\sum \\limits_{i=1}^{n} y_{i}}{n} - \\sum \\limits_{i=1} ^{n} x_{i}.y_{i}\\\\\n",
        "    \\hat{b_{1}} &=& \\frac{\\sum \\limits_{i=1} ^{n} x_{i}.y_{i} - \\frac{\\sum \\limits_{i=1} ^{n} x_{i} \\sum \\limits_{i=1}^{n} y_{i}}{n}}{\\sum \\limits_{i=1} ^{n} x_{i}^2 - \\frac{\\begin{pmatrix} \\sum \\limits_{i=1} ^{n} x_{i} \\end{pmatrix}^2 }{n}}\n",
        "    \\end{eqnarray}$"
      ]
    },
    {
      "cell_type": "markdown",
      "metadata": {
        "id": "aaZrDSCu-uo6"
      },
      "source": [
        "Sehingga diperoleh formula untuk $b_1$ adalah\n",
        "\n",
        "<h3><center>\n",
        "    $ \\hat{b_{1}} = \\frac{\\sum \\limits_{i=1} ^{n} x_{i}.y_{i} - \\frac{\\sum \\limits_{i=1} ^{n} x_{i} \\sum \\limits_{i=1}^{n} y_{i}}{n}}{\\sum \\limits_{i=1} ^{n} x_{i}^2 - \\frac{\\begin{pmatrix} \\sum \\limits_{i=1} ^{n} x_{i} \\end{pmatrix}^2 }{n}}$\n",
        "    "
      ]
    },
    {
      "cell_type": "markdown",
      "metadata": {
        "id": "pEwUwI22-uo8"
      },
      "source": [
        "Persamaan terakhir bisa ditulis ulang untuk kemudahan pemrograman sebagai berikut:"
      ]
    },
    {
      "cell_type": "markdown",
      "metadata": {
        "id": "WiWUZcZd-uo-"
      },
      "source": [
        "<h3><center>\n",
        "    $ \\hat{b_{1}} = \\frac{ \\sum \\limits_{i=1}^{n} \\begin{pmatrix} x_{i} - \\bar{x} \\end{pmatrix}  \\begin{pmatrix} y_{i} - \\bar{y}  \\end{pmatrix}}{ \\sum \\limits_{i=1}^{n} \\begin{pmatrix} x_{i} - \\bar{x} \\end{pmatrix}^2} $"
      ]
    },
    {
      "cell_type": "markdown",
      "metadata": {
        "id": "r7DKFM2y-uo_"
      },
      "source": [
        "Setelah mendapatkan keduanya, kita dapat mulai melakukan implementasi pada python."
      ]
    },
    {
      "cell_type": "markdown",
      "metadata": {
        "id": "TN0_rulu-upA"
      },
      "source": [
        "## Contoh Perhitungan Manual Regresi Linear"
      ]
    },
    {
      "cell_type": "markdown",
      "metadata": {
        "id": "QfhDmTP6-upA"
      },
      "source": [
        "Diketahui data X dan Y adalah sebagai berikut(Y=2X-1):\n",
        "\n",
        "\n",
        "$$\\begin{matrix}\n",
        "X & Y\\\\\n",
        "1 & 1\\\\\n",
        "3 & 5\\\\\n",
        "5 & 9\\\\\n",
        "6 & 11\\\\\n",
        "7 & 13\\\\\n",
        "8 & 15\\\\\n",
        "\\end{matrix} $$\n",
        "\n",
        "Berikut adalah proses menghitung model Regresi Linear dari data di atas:\n",
        "\n",
        "**1. Menghitung rata-rata X dan Y**\n",
        "\n",
        "$$n = 6$$\n",
        "\n",
        "$$\n",
        "\\bar{x}=\\frac{1+3+5+6+7+8}{6}= \\frac{30}{6}=5\\\\\n",
        "\\bar{y}=\\frac{1+5+9+11+13+15}{6}= \\frac{54}{6}=9\\\\\n",
        "$$\n",
        "    \n",
        "**2. Menghitung $b_{1}$**\n",
        "\n",
        "$$\n",
        "\\begin{eqnarray}\n",
        "\\hat{b_{1}} &=& \\frac{ \\sum \\limits_{i=1}^{n} \\begin{pmatrix} x_{i} - \\bar{x} \\end{pmatrix}  \\begin{pmatrix} y_{i} - \\bar{y}  \\end{pmatrix}}{ \\sum \\limits_{i=1}^{n} \\begin{pmatrix} x_{i} - \\bar{x} \\end{pmatrix}^2} \\\\\n",
        "\\hat{b_{1}} &=& \\frac{\\begin{pmatrix} [1-5][1-9]+[3-5][5-9]+[5-5][9-9]+[6-5][11-9]+[7-5][13-9]+[8-5][15-9] \\end{pmatrix} }{\\begin{pmatrix} [1-5]^2+[3-5]^2+[5-5]^2+[6-5]^2+[7-5]^2+[8-5]^2 \\end{pmatrix}}\\\\\n",
        "\\hat{b_{1}} &=& \\frac{\\begin{pmatrix} (-4)(-8) + (-2)(-4) + (0)(0) + (1)(2) + (2)(4) + (3)(6) \\end{pmatrix}  }{\\begin{pmatrix} (-4)^2+(-2)^2+0^2+1^2+2^2+3^2 \\end{pmatrix}}\\\\\n",
        "\\hat{b_{1}} &=& \\frac{32 + 8 + 0 + 2 + 8 + 18}{16+4+0+1+4+9}\\\\\n",
        "\\hat{b_{1}} &=& \\frac{68}{34}\\\\\n",
        "\\hat{b_{1}} &=& 2\n",
        "\\end{eqnarray}\n",
        "$$\n",
        "\n",
        "**2. Menghitung $b_{0}$**\n",
        "\n",
        "$$\n",
        "\\begin{eqnarray}\n",
        "\\hat{b_{0}} = \\bar{y} - \\hat{b_{1}} \\bar{x} \\\\\n",
        "\\hat{b_{0}} = 9 - (2)\\times 5 \\\\\n",
        "\\hat{b_{0}} = -1 \\\\\n",
        "\\end{eqnarray}\n",
        "$$\n",
        "\n",
        "**3. Menyusun Persamaan Regresi Linear**\n",
        "\n",
        "$$\n",
        "\\begin{eqnarray}\n",
        "Y &=& \\hat{b_{0}} + \\hat{b_{1}} X\\\\\n",
        "Y &=& -1 + 2 X\\\\\n",
        "\\end{eqnarray}\n",
        "$$"
      ]
    },
    {
      "cell_type": "markdown",
      "metadata": {
        "id": "FVGM5UfJ-upC"
      },
      "source": [
        "## Regresi Linear Python From Scratch"
      ]
    },
    {
      "cell_type": "markdown",
      "metadata": {
        "id": "XvFhqbLn-upD"
      },
      "source": [
        "### Membangun Model Regresi Linear"
      ]
    },
    {
      "cell_type": "markdown",
      "metadata": {
        "id": "TlvfJvzu-upE"
      },
      "source": [
        "Pertama, import library python yang dibutuhkan yaitu:\n",
        "* Numpy\n",
        "* Pandas\n",
        "* Matplotlib"
      ]
    },
    {
      "cell_type": "code",
      "metadata": {
        "id": "0Y5DJfWB-upG"
      },
      "source": [
        "import numpy as np\n",
        "import pandas as pd\n",
        "import matplotlib.pyplot as plt\n",
        "from sklearn.model_selection import train_test_split \n",
        "%matplotlib inline"
      ],
      "execution_count": 23,
      "outputs": []
    },
    {
      "cell_type": "markdown",
      "metadata": {
        "id": "c8pv_7NS-upQ"
      },
      "source": [
        "Untuk memahami konsep, kita akan menggunakan data X dan Y seperti yang kita tunjukkan pada proses penghitungan manual."
      ]
    },
    {
      "cell_type": "code",
      "metadata": {
        "id": "a-Bj-TIl-upR"
      },
      "source": [
        "X_train=np.array([1, 3, 5, 6, 7, 8])\n",
        "y_train=np.array([1, 5, 9, 11, 13, 15])"
      ],
      "execution_count": 24,
      "outputs": []
    },
    {
      "cell_type": "code",
      "metadata": {
        "colab": {
          "base_uri": "https://localhost:8080/"
        },
        "id": "olfLVNUn-upS",
        "outputId": "fc41144b-4c66-4e25-c17f-01fd205d338f"
      },
      "source": [
        "# Proses Training Model\n",
        "\n",
        "# Menghitung rata-rata inputs and outputs\n",
        "x_rata2 = np.mean(X_train)\n",
        "print(\"Rata-rata X:\", x_rata2)\n",
        "y_rata2 = np.mean(y_train)\n",
        "print(\"Rata-rata Y:\", y_rata2)\n",
        "\n",
        "# Jumlah data \n",
        "n = len(X_train)\n",
        "print(\"Jumlah data(n):\", y_rata2)\n",
        "\n",
        "# Menuliskan formula untuk menghitung beta 0 dan beta 1\n",
        "A = 0\n",
        "B = 0\n",
        "for i in range(n):\n",
        "    a = (X_train[i] - x_rata2) * (y_train[i] - y_rata2)\n",
        "    print(\"(\",X_train[i], \"-\", x_rata2, \")\", \"*\", \"(\", y_train[i], \"-\", y_rata2, \") =\", a )\n",
        "    A += a\n",
        "    b = (X_train[i] - x_rata2) ** 2\n",
        "    print(\"(\", X_train[i], \"-\", x_rata2, \")\", \"^2\", \" =\", b )\n",
        "    B += b\n",
        "    \n",
        "print(\"Pembilang =\", A)\n",
        "print(\"Penyebut =\",  B)\n",
        "\n",
        "# Menampilkan Koefisien Regresi Linear\n",
        "b_1 = A / B\n",
        "print(\"b_1 =\", b_1)\n",
        "b_0 = y_rata2 - (b_1 * x_rata2)\n",
        "print(\"b_0 =\", b_0)"
      ],
      "execution_count": 25,
      "outputs": [
        {
          "output_type": "stream",
          "name": "stdout",
          "text": [
            "Rata-rata X: 5.0\n",
            "Rata-rata Y: 9.0\n",
            "Jumlah data(n): 9.0\n",
            "( 1 - 5.0 ) * ( 1 - 9.0 ) = 32.0\n",
            "( 1 - 5.0 ) ^2  = 16.0\n",
            "( 3 - 5.0 ) * ( 5 - 9.0 ) = 8.0\n",
            "( 3 - 5.0 ) ^2  = 4.0\n",
            "( 5 - 5.0 ) * ( 9 - 9.0 ) = 0.0\n",
            "( 5 - 5.0 ) ^2  = 0.0\n",
            "( 6 - 5.0 ) * ( 11 - 9.0 ) = 2.0\n",
            "( 6 - 5.0 ) ^2  = 1.0\n",
            "( 7 - 5.0 ) * ( 13 - 9.0 ) = 8.0\n",
            "( 7 - 5.0 ) ^2  = 4.0\n",
            "( 8 - 5.0 ) * ( 15 - 9.0 ) = 18.0\n",
            "( 8 - 5.0 ) ^2  = 9.0\n",
            "Pembilang = 68.0\n",
            "Penyebut = 34.0\n",
            "b_1 = 2.0\n",
            "b_0 = -1.0\n"
          ]
        }
      ]
    },
    {
      "cell_type": "code",
      "metadata": {
        "colab": {
          "base_uri": "https://localhost:8080/",
          "height": 279
        },
        "id": "2rpBXRg2-upX",
        "outputId": "e8374819-18cb-4039-a1c7-c367351c21cc"
      },
      "source": [
        "# Plot Nilai Data\n",
        "x_max = np.max(X_train)\n",
        "x_min = np.min(X_train)\n",
        "\n",
        "# Garis Regresi\n",
        "x = np.linspace(x_min, x_max, 1000)\n",
        "y = b_0 + b_1 * x\n",
        "\n",
        "# Plott Garis Regresi \n",
        "plt.plot(x, y, color='red', label='Regresi Linear')\n",
        "\n",
        "# Plot Titik Data\n",
        "plt.scatter(X_train, y_train, color='blue', label='Data')\n",
        "\n",
        "# Label sumbu\n",
        "plt.xlabel('X')\n",
        "\n",
        "# Label sumbu y\n",
        "plt.ylabel('Y')\n",
        "\n",
        "# Menampilkan Legenda\n",
        "plt.legend()\n",
        "\n",
        "# Menampilkan Gambar Hasil Plot\n",
        "plt.show()"
      ],
      "execution_count": 26,
      "outputs": [
        {
          "output_type": "display_data",
          "data": {
            "image/png": "[encoded data removed]",
            "text/plain": [
              "<Figure size 432x288 with 1 Axes>"
            ]
          },
          "metadata": {
            "needs_background": "light"
          }
        }
      ]
    },
    {
      "cell_type": "markdown",
      "metadata": {
        "id": "TCNxoLbT-upZ"
      },
      "source": [
        "### Implementasi Model Regresi Linear Pada Data Real"
      ]
    },
    {
      "cell_type": "markdown",
      "metadata": {
        "id": "WS3ulUIt-upb"
      },
      "source": [
        "Kita akan menggunakan dataset yang berisi **harga cabai** dan **harga pupuk**."
      ]
    },
    {
      "cell_type": "code",
      "metadata": {
        "colab": {
          "base_uri": "https://localhost:8080/",
          "height": 221
        },
        "id": "8_cI5Zq0-upc",
        "outputId": "fa415350-56ad-4b2f-af2d-a7e9fc7a5cc7"
      },
      "source": [
        "dataset = pd.read_csv('https://raw.githubusercontent.com/Novitaarianti/Training-Algoritma-Machine-Learning/main/Data.csv')\n",
        "# Melihat ukuran dataset\n",
        "print(dataset.shape)\n",
        "# Menampilkan 5 data teratas\n",
        "dataset.head()"
      ],
      "execution_count": 27,
      "outputs": [
        {
          "output_type": "stream",
          "name": "stdout",
          "text": [
            "(20, 2)\n"
          ]
        },
        {
          "output_type": "execute_result",
          "data": {
            "text/html": [
              "<div>\n",
              "<style scoped>\n",
              "    .dataframe tbody tr th:only-of-type {\n",
              "        vertical-align: middle;\n",
              "    }\n",
              "\n",
              "    .dataframe tbody tr th {\n",
              "        vertical-align: top;\n",
              "    }\n",
              "\n",
              "    .dataframe thead th {\n",
              "        text-align: right;\n",
              "    }\n",
              "</style>\n",
              "<table border=\"1\" class=\"dataframe\">\n",
              "  <thead>\n",
              "    <tr style=\"text-align: right;\">\n",
              "      <th></th>\n",
              "      <th>chilli price</th>\n",
              "      <th>fertilizer price</th>\n",
              "    </tr>\n",
              "  </thead>\n",
              "  <tbody>\n",
              "    <tr>\n",
              "      <th>0</th>\n",
              "      <td>15398</td>\n",
              "      <td>19916</td>\n",
              "    </tr>\n",
              "    <tr>\n",
              "      <th>1</th>\n",
              "      <td>15367</td>\n",
              "      <td>18351</td>\n",
              "    </tr>\n",
              "    <tr>\n",
              "      <th>2</th>\n",
              "      <td>15367</td>\n",
              "      <td>18274</td>\n",
              "    </tr>\n",
              "    <tr>\n",
              "      <th>3</th>\n",
              "      <td>15350</td>\n",
              "      <td>17435</td>\n",
              "    </tr>\n",
              "    <tr>\n",
              "      <th>4</th>\n",
              "      <td>15463</td>\n",
              "      <td>22919</td>\n",
              "    </tr>\n",
              "  </tbody>\n",
              "</table>\n",
              "</div>"
            ],
            "text/plain": [
              "   chilli price  fertilizer price\n",
              "0         15398             19916\n",
              "1         15367             18351\n",
              "2         15367             18274\n",
              "3         15350             17435\n",
              "4         15463             22919"
            ]
          },
          "metadata": {},
          "execution_count": 27
        }
      ]
    },
    {
      "cell_type": "markdown",
      "metadata": {
        "id": "9m5Ckrcp-upe"
      },
      "source": [
        "Mencari hubungan antara data X(Harga Cabai) dan Y(Harga pupuk)"
      ]
    },
    {
      "cell_type": "code",
      "metadata": {
        "id": "4ONNlpCiAdt0"
      },
      "source": [
        "# Definisikan Variabel Input(X) dan Output(Y)\n",
        "X = dataset['chilli price'].values.reshape(-1,1)\n",
        "Y = dataset['fertilizer price'].values.reshape(-1,1)"
      ],
      "execution_count": 28,
      "outputs": []
    },
    {
      "cell_type": "code",
      "metadata": {
        "id": "SuQVU5DRAhOP"
      },
      "source": [
        "# Membagi data menjadi data training dan data testing\n",
        "X_train, X_test, y_train, y_test = train_test_split(X, Y, test_size=0.2, random_state=0)"
      ],
      "execution_count": 29,
      "outputs": []
    },
    {
      "cell_type": "code",
      "metadata": {
        "id": "yAMpNBwS-upo",
        "colab": {
          "base_uri": "https://localhost:8080/"
        },
        "outputId": "fb721908-c0cc-450e-d850-5d1c79d59d58"
      },
      "source": [
        "# Proses Training Model\n",
        "\n",
        "# Menghitung rata-rata inputs and outputs\n",
        "x_rata2 = np.mean(X_train)\n",
        "y_rata2 = np.mean(y_train)\n",
        "\n",
        "# Jumlah data \n",
        "n = len(X_train)\n",
        "\n",
        "# Menuliskan formula untuk menghitung beta 0 dan beta 1\n",
        "A = 0\n",
        "B = 0\n",
        "for i in range(n):\n",
        "    A += (X_train[i] - x_rata2) * (y_train[i] - y_rata2)\n",
        "    B += (X_train[i] - x_rata2) ** 2\n",
        "    \n",
        "b_1 = A / B\n",
        "b_0 = y_rata2 - (b_1 * x_rata2)\n",
        "\n",
        "# Menampilkan Koefisien Regresi Linear\n",
        "print(b_0, b_1)"
      ],
      "execution_count": 30,
      "outputs": [
        {
          "output_type": "stream",
          "name": "stdout",
          "text": [
            "[-751408.74803296] [50.08704983]\n"
          ]
        }
      ]
    },
    {
      "cell_type": "markdown",
      "metadata": {
        "id": "GYneTR4v-upq"
      },
      "source": [
        "Dalam notasi matematika, hasil ini dapat ditulis sebagai berikut:"
      ]
    },
    {
      "cell_type": "markdown",
      "metadata": {
        "id": "qlxg-9N7-upr"
      },
      "source": [
        "```\n",
        "fertilizer price =  -751408.74803296 + 50.08704983 * chilli price\n",
        "```"
      ]
    },
    {
      "cell_type": "markdown",
      "metadata": {
        "id": "lTjoEJ6u-ups"
      },
      "source": [
        "Sekarang kita memiliki model linier. Mari kita plot secara grafis."
      ]
    },
    {
      "cell_type": "code",
      "metadata": {
        "id": "FUq7hY_g-upt",
        "colab": {
          "base_uri": "https://localhost:8080/",
          "height": 279
        },
        "outputId": "bef79540-e007-4284-9196-3d5fc46cd01d"
      },
      "source": [
        "# Plot Nilai Data\n",
        "x_max = np.max(X) + 100\n",
        "x_min = np.min(X) - 100\n",
        "\n",
        "# Garis Regresi\n",
        "x = np.linspace(x_min, x_max, 1000)\n",
        "y = b_0 + b_1 * x\n",
        "\n",
        "# Plott Garis Regresi \n",
        "plt.plot(x, y, color='red', label='Regresi Linear')\n",
        "\n",
        "# Plot Titik Data\n",
        "plt.scatter(X, Y, color='blue', label='Data')\n",
        "\n",
        "# Label sumbu\n",
        "plt.xlabel('chilli price')\n",
        "\n",
        "# Label sumbu y\n",
        "plt.ylabel('fertilizer price')\n",
        "\n",
        "# Menampilkan Legenda\n",
        "plt.legend()\n",
        "\n",
        "# Menampilkan Gambar Hasil Plot\n",
        "plt.show()"
      ],
      "execution_count": 31,
      "outputs": [
        {
          "output_type": "display_data",
          "data": {
            "image/png": "[encoded data removed]",
            "text/plain": [
              "<Figure size 432x288 with 1 Axes>"
            ]
          },
          "metadata": {
            "needs_background": "light"
          }
        }
      ]
    },
    {
      "cell_type": "markdown",
      "metadata": {
        "id": "Y4jF7uv1-upv"
      },
      "source": [
        "### Evaluasi Model"
      ]
    },
    {
      "cell_type": "markdown",
      "metadata": {
        "id": "7XRW8GLP-up3"
      },
      "source": [
        "Kita perlu mengukur tingkat ketepatan(akurasi) model yang telah diperoleh. Terdapat banyak metode untuk melakukan hal ini, namun pada artikel ini kita memilih menggunakan **Root Mean Square Error** dan **Koefisien Determinasi ($R^2$ Skor)**"
      ]
    },
    {
      "cell_type": "markdown",
      "metadata": {
        "id": "4nD1SS_3-up4"
      },
      "source": [
        "<h1><center>\n",
        "    $ RMSE = \\sqrt{\\frac{1}{n} \\sum_{i=1}^{n} {(y_i - \\hat{y_i})}^2} $\n",
        "    </center></h1>"
      ]
    },
    {
      "cell_type": "markdown",
      "metadata": {
        "id": "7r0jOIWP-up4"
      },
      "source": [
        "$\\hat{y_i}$ adalah nilai hasil prediksi ke-i. Berikut adalah penulisan kode untuk RMSE"
      ]
    },
    {
      "cell_type": "code",
      "metadata": {
        "id": "YHbW9GnY-up7",
        "colab": {
          "base_uri": "https://localhost:8080/"
        },
        "outputId": "fb740fe2-4f04-492d-fa22-be7594ec567f"
      },
      "source": [
        "rmse = 0\n",
        "for i in range(len(X_test)):\n",
        "    y_pred=  b_0 + b_1* X_test[i]\n",
        "    rmse += (y_test[i] - y_pred) ** 2\n",
        "    \n",
        "rmse = np.sqrt(rmse/n)\n",
        "print(rmse)"
      ],
      "execution_count": 32,
      "outputs": [
        {
          "output_type": "stream",
          "name": "stdout",
          "text": [
            "[41.81669624]\n"
          ]
        }
      ]
    },
    {
      "cell_type": "markdown",
      "metadata": {
        "id": "yKJmV-MZ-uqA"
      },
      "source": [
        "Selanjutnya, mari kita hitung nilai $R^2$  skor untuk mengukur tingkat akurasi dari model linear yang diperoleh, secara matematis $R^2$ dituliskan sebagai berikut:"
      ]
    },
    {
      "cell_type": "markdown",
      "metadata": {
        "id": "2R-IWzib-uqB"
      },
      "source": [
        "<h1><center>\n",
        "    $ R^2 =1- \\frac{SSE}{SST}=1-  \\frac{\\sum (\\hat{y_i}-\\bar{y})^2}{\\sum (y_i - \\bar{y})^2} $\n",
        "    </center></h1>"
      ]
    },
    {
      "cell_type": "markdown",
      "metadata": {
        "id": "YlUnK67m-uqB"
      },
      "source": [
        "SSE adalah jumlah kuadrat galat sedangkan SST jumlah kuadrat total."
      ]
    },
    {
      "cell_type": "markdown",
      "metadata": {
        "id": "iE37lphy-uqC"
      },
      "source": [
        "$R^2$ skor biasanya memiliki nilai antara 0 hingga 1. Nilai ini juga bisa bernilai negatif jika model regresi benar-benar salah. Di bawah ini adalah kode pemrograman untuk menghitung $R^2$ skor"
      ]
    },
    {
      "cell_type": "code",
      "metadata": {
        "id": "cqAioXl7-uqE",
        "colab": {
          "base_uri": "https://localhost:8080/"
        },
        "outputId": "71fb4430-5e20-4037-d5f6-4641da656bab"
      },
      "source": [
        "SST = 0\n",
        "SSE = 0\n",
        "y_pred=  b_0 + b_1*X_test\n",
        "y_rata2 = np.mean(y_test)\n",
        "for i in range(len(X_test)) :\n",
        "    SST += (y_test[i] - y_rata2) ** 2\n",
        "    SSE += (y_test[i] - y_pred[i]) **2\n",
        "\n",
        "score = 1- (SSE/SST)\n",
        "print(\"Koefisien Determinasi:\", score)"
      ],
      "execution_count": 33,
      "outputs": [
        {
          "output_type": "stream",
          "name": "stdout",
          "text": [
            "Koefisien Determinasi: [0.99451759]\n"
          ]
        }
      ]
    }
  ]
}