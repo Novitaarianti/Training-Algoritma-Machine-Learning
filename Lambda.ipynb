{
 "cells": [
  {
   "cell_type": "markdown",
   "metadata": {},
   "source": [
    "# Novita Arianti_Lambda"
   ]
  },
  {
   "cell_type": "markdown",
   "metadata": {},
   "source": [
    "# Lambda"
   ]
  },
  {
   "cell_type": "markdown",
   "metadata": {},
   "source": [
    "Fungsi lambda adalah fungsi anonim one line yang didefinisikan tanpa nama. Fungsi lambda dapat mengambil sejumlah arguments , tetapi hanya dapat memiliki satu expression . Sementara fungsi normal didefinisikan menggunakan kata kunci def , dalam Python fungsi anonim didefinisikan menggunakan kata kunci lambda.\n",
    "\n",
    "Fungsi Lambda digunakan ketika fungsi sederhana hanya digunakan sekali atau untuk waktu yang singkat dalam kode kita. Penggunaannya yang paling umum adalah sebagai argumen untuk fungsi tingkat tinggi (fungsi yang menggunakan fungsi lain sebagai argumen).\n",
    "\n",
    "Misalkan kita punya fungsi penjumlahan kuadrat seperti ini:\n"
   ]
  },
  {
   "cell_type": "code",
   "execution_count": 1,
   "metadata": {},
   "outputs": [],
   "source": [
    "def penjumlahan_kuadrat(x,y):    \n",
    "    return x**2 + y**2"
   ]
  },
  {
   "cell_type": "markdown",
   "metadata": {},
   "source": [
    "dengan lambda.. kita tidak perlu menggunakan def dan return , bahkan kita juga tidak perlu menuliskan namanya.\n"
   ]
  },
  {
   "cell_type": "code",
   "execution_count": 2,
   "metadata": {},
   "outputs": [
    {
     "data": {
      "text/plain": [
       "<function __main__.<lambda>(x, y)>"
      ]
     },
     "execution_count": 2,
     "metadata": {},
     "output_type": "execute_result"
    }
   ],
   "source": [
    "lambda x,y : x**2 + y**2"
   ]
  },
  {
   "cell_type": "markdown",
   "metadata": {},
   "source": [
    "# Menggunakan Lambda Expression\n"
   ]
  },
  {
   "cell_type": "markdown",
   "metadata": {},
   "source": [
    "Lambda digunakan untuk membuat fungsi dalam satu baris ekspresi. Ini adalah format untuk membuat fungsi lambda:\n",
    "\n",
    "Lambda args : expression\n",
    "\n",
    "lambda = kata kunci untuk membuat fungsi lambda    \n",
    "args = argumen atau parameter     \n",
    "expression = isi fungsi\n",
    "\n",
    "\n",
    "Lambda bisa memiliki lebih dari satu argumen atau parameter, tapi hanya bisa memiliki satu ekspresi atau isi.\n"
   ]
  },
  {
   "cell_type": "code",
   "execution_count": 3,
   "metadata": {},
   "outputs": [],
   "source": [
    "greeting = lambda name: print(f\"Hello, {name}\") \n"
   ]
  },
  {
   "cell_type": "markdown",
   "metadata": {},
   "source": [
    "Karena fungsi lambda tidak punya nama, jadi kita butuh variabel untuk menyimpannya.    \n",
    "Nanti saat kita mau panggil, kita tinggal tuliskan saja nama variabelnya seperti ini:\n"
   ]
  },
  {
   "cell_type": "code",
   "execution_count": 5,
   "metadata": {},
   "outputs": [
    {
     "name": "stdout",
     "output_type": "stream",
     "text": [
      "Hello, Dian\n",
      "Hello, Ayu\n"
     ]
    }
   ],
   "source": [
    "greeting(\"Dian\") \n",
    "greeting(\"Ayu\")\n"
   ]
  },
  {
   "cell_type": "markdown",
   "metadata": {},
   "source": [
    "Beberapa contoh penggunaan fungsi lambda\n"
   ]
  },
  {
   "cell_type": "code",
   "execution_count": 6,
   "metadata": {},
   "outputs": [
    {
     "name": "stdout",
     "output_type": "stream",
     "text": [
      "15 110\n"
     ]
    }
   ],
   "source": [
    "# Fungsi lambda untuk menambahkan angka 10 kepada argument input \n",
    "f = lambda x: x+10 \n",
    "val1 = f(5) \n",
    "val2 = f(100) \n",
    "print(val1, val2)"
   ]
  },
  {
   "cell_type": "code",
   "execution_count": 7,
   "metadata": {},
   "outputs": [
    {
     "name": "stdout",
     "output_type": "stream",
     "text": [
      "20 35\n"
     ]
    }
   ],
   "source": [
    "# fungsi lambda untuk mengalikan dua argumen input dan menampilkan hasilnya \n",
    "f = lambda x,y: x*y \n",
    "val3 = f(2,10) \n",
    "val4 = f(7,5) \n",
    "print(val3, val4)\n"
   ]
  },
  {
   "cell_type": "markdown",
   "metadata": {},
   "source": [
    "# Anonymous Function"
   ]
  },
  {
   "cell_type": "markdown",
   "metadata": {},
   "source": [
    "Karena lambda adalah anonymous function, ia akan bebas menggunakan nama apa saja. Dengan kata lain, fungsi lambda bisa disimpan di variabel mana pun. Ini tentunya tidak bisa dilakukan oleh fungsi yang dibuat dengan def. Coba perhatikan ini:\n"
   ]
  },
  {
   "cell_type": "code",
   "execution_count": 8,
   "metadata": {},
   "outputs": [
    {
     "ename": "NameError",
     "evalue": "name 'nama' is not defined",
     "output_type": "error",
     "traceback": [
      "\u001b[1;31m---------------------------------------------------------------------------\u001b[0m",
      "\u001b[1;31mNameError\u001b[0m                                 Traceback (most recent call last)",
      "\u001b[1;32m<ipython-input-8-c10d33bcd485>\u001b[0m in \u001b[0;36m<module>\u001b[1;34m\u001b[0m\n\u001b[0;32m      1\u001b[0m \u001b[1;32mdef\u001b[0m \u001b[0msay_hello\u001b[0m\u001b[1;33m(\u001b[0m\u001b[0mnama\u001b[0m\u001b[1;33m)\u001b[0m\u001b[1;33m:\u001b[0m\u001b[1;33m\u001b[0m\u001b[1;33m\u001b[0m\u001b[0m\n\u001b[0;32m      2\u001b[0m     \u001b[0mprint\u001b[0m\u001b[1;33m(\u001b[0m\u001b[1;34mf\"Hello {nama}, apa kabar?\"\u001b[0m\u001b[1;33m)\u001b[0m\u001b[1;33m\u001b[0m\u001b[1;33m\u001b[0m\u001b[0m\n\u001b[1;32m----> 3\u001b[1;33m \u001b[0mucapin\u001b[0m \u001b[1;33m=\u001b[0m \u001b[0msay_hello\u001b[0m\u001b[1;33m(\u001b[0m\u001b[0mnama\u001b[0m\u001b[1;33m)\u001b[0m\u001b[1;33m\u001b[0m\u001b[1;33m\u001b[0m\u001b[0m\n\u001b[0m",
      "\u001b[1;31mNameError\u001b[0m: name 'nama' is not defined"
     ]
    }
   ],
   "source": [
    "def say_hello(nama):  \n",
    "    print(f\"Hello {nama}, apa kabar?\")\n",
    "ucapin = say_hello(nama)\n"
   ]
  },
  {
   "cell_type": "markdown",
   "metadata": {},
   "source": [
    "Kita mencoba membuat fungsi say_hello() dengan def, kemudian menyimpannya ke dalam variabel ucapin. \n",
    "Tapi malah error! \n",
    "Ini karena fungsi tersebut bukanlah fungsi anonymous yang boleh dibah-ubah namanya. \n",
    "Lalu coba perhatikan di baris terakhir, fungsi lambda greeting() yang sudah dibuat disimpan lagi ke variabel yang berbeda, yakni sapa.\n"
   ]
  },
  {
   "cell_type": "code",
   "execution_count": 9,
   "metadata": {},
   "outputs": [
    {
     "name": "stdout",
     "output_type": "stream",
     "text": [
      "Hello, Andi\n"
     ]
    }
   ],
   "source": [
    "greeting = lambda name: print(f\"Hello, {name}\") \n",
    "sapa = greeting \n",
    "greeting(\"Andi\")"
   ]
  },
  {
   "cell_type": "code",
   "execution_count": 10,
   "metadata": {},
   "outputs": [
    {
     "name": "stdout",
     "output_type": "stream",
     "text": [
      "Hello, Neli\n"
     ]
    }
   ],
   "source": [
    "sapa(\"Neli\")\n"
   ]
  },
  {
   "cell_type": "markdown",
   "metadata": {},
   "source": [
    "Hasilnya tidak error, karena ini adalah fungsi anonymous atau lambda.\n"
   ]
  },
  {
   "cell_type": "markdown",
   "metadata": {},
   "source": [
    "# Eksekusi Lambda Secara Langsung\n"
   ]
  },
  {
   "cell_type": "markdown",
   "metadata": {},
   "source": [
    "Eksekusi Lambda Secara Langsung Kelebihan fungsi lambda dibandingkan def adalah bisa kita eksekusi langsung.\n",
    "\n",
    "Contohnya:\n"
   ]
  },
  {
   "cell_type": "code",
   "execution_count": 11,
   "metadata": {},
   "outputs": [
    {
     "data": {
      "text/plain": [
       "52"
      ]
     },
     "execution_count": 11,
     "metadata": {},
     "output_type": "execute_result"
    }
   ],
   "source": [
    "(lambda x,y: x**2 + y**2)(4,6)\n"
   ]
  },
  {
   "cell_type": "markdown",
   "metadata": {},
   "source": [
    "Tanda kurung yang mengapit fungsi lambda artinya kita akan langsung mengeksekusi fungsi tersebut.\n",
    "Lalu kurung berikutnya akan berisi argument.\n",
    "Angka 4 dan 6 adalah argument untuk x dan y yang akan diberikan kepada fungsi lambda.\n",
    "Maka kita akan langsung mendapatkan hasilnya, yakni: 42 + 62 = 52.\n",
    "Hasil dari eksekusi ini bisa juga kita simpan ke dalam variabel.\n"
   ]
  },
  {
   "cell_type": "code",
   "execution_count": 12,
   "metadata": {},
   "outputs": [],
   "source": [
    "hasil = (lambda x,y: x**2 + y**2)(4,6)"
   ]
  },
  {
   "cell_type": "markdown",
   "metadata": {},
   "source": [
    "# Mengapa Harus Pakai Lambda? "
   ]
  },
  {
   "cell_type": "markdown",
   "metadata": {},
   "source": [
    "Kita memang tidak harus selalu menggunakan Lambda, tapi dalam kasus tertentu lambda lebih baik dibandingkan fungsi biasa.\n",
    "Lambda biasanya dibutuhkan saat kita ingin membuat fungsi dalam satu baris.\n",
    "Biasanya saat menggunakan fungsi-fungsi seperti filter() , map() , dan reduce() kita akan membutuhkan lambda.\n",
    "\n",
    "Mengapa?\n",
    "\n",
    "Karena di fungsi-fungsi tersebut membutuhkan parameter fungsi.\n",
    "\n",
    "Contoh:\n"
   ]
  },
  {
   "cell_type": "code",
   "execution_count": 13,
   "metadata": {},
   "outputs": [
    {
     "name": "stdout",
     "output_type": "stream",
     "text": [
      "[100, 4, 64, 49, 25, 16, 9, 121, 0, 1]\n"
     ]
    }
   ],
   "source": [
    "bilangan = [10,2,8,7,5,4,3,11,0, 1] \n",
    "filtered_result = map (lambda x: x*x, bilangan) \n",
    "print(list(filtered_result))\n"
   ]
  },
  {
   "cell_type": "markdown",
   "metadata": {},
   "source": [
    "Pada fungsi map() kita memberikan parameter dengan fungsi lambda.\n",
    "\n",
    "Mengapa bisa begitu?\n",
    "\n",
    "Karena lambda bisa disimpan ke dalam variabel, otomatis dia akan bisa juga jadi parameter.\n",
    "\n",
    "Satu lagi contoh dengan fungsi filter():\n"
   ]
  },
  {
   "cell_type": "code",
   "execution_count": 14,
   "metadata": {},
   "outputs": [
    {
     "data": {
      "text/plain": [
       "[0, 2, 4, 6, 8, 10]"
      ]
     },
     "execution_count": 14,
     "metadata": {},
     "output_type": "execute_result"
    }
   ],
   "source": [
    "# menentukan bilangan genap \n",
    "genap = lambda x: x%2 == 0 \n",
    "list(filter(genap, range(11)))\n"
   ]
  },
  {
   "cell_type": "markdown",
   "metadata": {},
   "source": [
    "# Contoh Pemakaian Fungsi Lambda\n"
   ]
  },
  {
   "cell_type": "markdown",
   "metadata": {},
   "source": [
    "1. Melakukan filter tertentu pada suatu list\n"
   ]
  },
  {
   "cell_type": "code",
   "execution_count": 15,
   "metadata": {},
   "outputs": [
    {
     "data": {
      "text/plain": [
       "['Jawa Barat', 'Jawa Timur', 'Jawa Tengah']"
      ]
     },
     "execution_count": 15,
     "metadata": {},
     "output_type": "execute_result"
    }
   ],
   "source": [
    "list_nama_provinsi = ['Jawa Barat', 'Jawa Timur', 'Jawa Tengah', 'DKI Jakarta', 'Banten']\n",
    "# Menggambil nama provinsi dengan kata 'Jawa' \n",
    "pilih_jawa = lambda k: 'jawa' in k.lower()\n",
    "# Note:lower() untuk merubah huruf menjadi lower case\n",
    "list(filter(pilih_jawa, list_nama_provinsi))"
   ]
  },
  {
   "cell_type": "markdown",
   "metadata": {},
   "source": [
    "2. Mendefinisikan kolom baru dengan fungsi tertentu pada DataFrame\n"
   ]
  },
  {
   "cell_type": "code",
   "execution_count": 20,
   "metadata": {},
   "outputs": [
    {
     "data": {
      "text/html": [
       "<div>\n",
       "<style scoped>\n",
       "    .dataframe tbody tr th:only-of-type {\n",
       "        vertical-align: middle;\n",
       "    }\n",
       "\n",
       "    .dataframe tbody tr th {\n",
       "        vertical-align: top;\n",
       "    }\n",
       "\n",
       "    .dataframe thead th {\n",
       "        text-align: right;\n",
       "    }\n",
       "</style>\n",
       "<table border=\"1\" class=\"dataframe\">\n",
       "  <thead>\n",
       "    <tr style=\"text-align: right;\">\n",
       "      <th></th>\n",
       "      <th>Eksportir</th>\n",
       "      <th>Total_Ekspor_TON</th>\n",
       "      <th>Persentase</th>\n",
       "    </tr>\n",
       "  </thead>\n",
       "  <tbody>\n",
       "    <tr>\n",
       "      <td>0</td>\n",
       "      <td>Rohan</td>\n",
       "      <td>455</td>\n",
       "      <td>91.0</td>\n",
       "    </tr>\n",
       "    <tr>\n",
       "      <td>1</td>\n",
       "      <td>Elvan</td>\n",
       "      <td>250</td>\n",
       "      <td>50.0</td>\n",
       "    </tr>\n",
       "    <tr>\n",
       "      <td>2</td>\n",
       "      <td>Irpan</td>\n",
       "      <td>495</td>\n",
       "      <td>99.0</td>\n",
       "    </tr>\n",
       "    <tr>\n",
       "      <td>3</td>\n",
       "      <td>Soni</td>\n",
       "      <td>400</td>\n",
       "      <td>80.0</td>\n",
       "    </tr>\n",
       "    <tr>\n",
       "      <td>4</td>\n",
       "      <td>Radhika</td>\n",
       "      <td>350</td>\n",
       "      <td>70.0</td>\n",
       "    </tr>\n",
       "    <tr>\n",
       "      <td>5</td>\n",
       "      <td>Joni</td>\n",
       "      <td>450</td>\n",
       "      <td>90.0</td>\n",
       "    </tr>\n",
       "  </tbody>\n",
       "</table>\n",
       "</div>"
      ],
      "text/plain": [
       "  Eksportir  Total_Ekspor_TON  Persentase\n",
       "0     Rohan               455        91.0\n",
       "1     Elvan               250        50.0\n",
       "2     Irpan               495        99.0\n",
       "3      Soni               400        80.0\n",
       "4   Radhika               350        70.0\n",
       "5      Joni               450        90.0"
      ]
     },
     "execution_count": 20,
     "metadata": {},
     "output_type": "execute_result"
    }
   ],
   "source": [
    "# Impor Library Pandas \n",
    "import pandas as pd\n",
    "# Membuat list yang memuat data \n",
    "hasil_ekspor= [['Rohan',455],['Elvan',250],['Irpan',495],        \n",
    "               ['Soni',400],['Radhika',350],['Joni',450]]\n",
    "# Membuat Pandas DataFrame \n",
    "df = pd.DataFrame(hasil_ekspor,columns=['Eksportir','Total_Ekspor_TON'])\n",
    "# Target Ekspor adalah 500 Ton\n",
    "# Persentase hasil ekspor diperoleh dari Total_Ekspor_TON dibagi target X 100% \n",
    "# diterapkan pada dataframe dengan bantuan method  df.assign() \n",
    "df = df.assign(Persentase = lambda x: (x['Total_Ekspor_TON'] /500 * 100))\n",
    "\n",
    "# Menampilkan DataFRame\n",
    "df"
   ]
  },
  {
   "cell_type": "markdown",
   "metadata": {},
   "source": [
    "# Latihan"
   ]
  },
  {
   "cell_type": "markdown",
   "metadata": {},
   "source": [
    "1. Buatlah fungsi lambda untuk melakukan filter pada data range(n) untuk data-data yang berupa bilangan kelipatan 3!\n"
   ]
  },
  {
   "cell_type": "code",
   "execution_count": 27,
   "metadata": {},
   "outputs": [
    {
     "data": {
      "text/plain": [
       "[0, 3, 6, 9]"
      ]
     },
     "execution_count": 27,
     "metadata": {},
     "output_type": "execute_result"
    }
   ],
   "source": [
    "kelipatan_3 = lambda x: x%3 == 0\n",
    "list(filter(kelipatan_3, range(11)))\n"
   ]
  },
  {
   "cell_type": "markdown",
   "metadata": {},
   "source": [
    "2. Buatlah fungsi lambda untuk memilih kata-kata dengan jumlah karakter lebih dari sama dengan 6 pada list inputnya. Misal:\n"
   ]
  },
  {
   "cell_type": "code",
   "execution_count": 1,
   "metadata": {},
   "outputs": [
    {
     "data": {
      "text/plain": [
       "['adalah', 'seorang', 'kapiten']"
      ]
     },
     "execution_count": 1,
     "metadata": {},
     "output_type": "execute_result"
    }
   ],
   "source": [
    "list_input=['saya', 'adalah', 'seorang', 'kapiten']\n",
    "pilih_input= lambda x: len(x)>=6\n",
    "list(filter(pilih_input, list_input))"
   ]
  },
  {
   "cell_type": "code",
   "execution_count": null,
   "metadata": {},
   "outputs": [],
   "source": []
  }
 ],
 "metadata": {
  "kernelspec": {
   "display_name": "Python 3",
   "language": "python",
   "name": "python3"
  },
  "language_info": {
   "codemirror_mode": {
    "name": "ipython",
    "version": 3
   },
   "file_extension": ".py",
   "mimetype": "text/x-python",
   "name": "python",
   "nbconvert_exporter": "python",
   "pygments_lexer": "ipython3",
   "version": "3.7.4"
  }
 },
 "nbformat": 4,
 "nbformat_minor": 2
}
